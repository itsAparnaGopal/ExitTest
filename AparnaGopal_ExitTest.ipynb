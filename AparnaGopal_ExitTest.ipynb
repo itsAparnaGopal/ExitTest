{
  "cells": [
    {
      "cell_type": "markdown",
      "metadata": {
        "id": "zH77CGUndzET"
      },
      "source": [
        "Loading Packages and Libraries"
      ]
    },
    {
      "cell_type": "code",
      "execution_count": 95,
      "metadata": {
        "id": "Re6Ax1xoYDp7"
      },
      "outputs": [],
      "source": [
        "import pandas as pd # python library to manipulate data. pandas is acronym of panneled data\n",
        "import numpy as np # numerical python . python library for arithmetical operations\n",
        "\n",
        "#python library for data visualisation\n",
        "\n",
        "import matplotlib.pyplot as plt\n",
        "import seaborn as sns\n",
        "\n",
        "#to suppress warnings\n",
        "\n",
        "import warnings\n",
        "warnings.filterwarnings(\"ignore\")"
      ]
    },
    {
      "cell_type": "markdown",
      "metadata": {
        "id": "57wTLTuUdxwj"
      },
      "source": [
        "Reading Data"
      ]
    },
    {
      "cell_type": "code",
      "execution_count": 96,
      "metadata": {
        "id": "2Zqc7pa9bm60"
      },
      "outputs": [],
      "source": [
        "data=pd.read_csv('/content/drive/MyDrive/train.csv')"
      ]
    },
    {
      "cell_type": "markdown",
      "metadata": {
        "id": "Yn7WnzyJeDz_"
      },
      "source": [
        "Understanding the Data"
      ]
    },
    {
      "cell_type": "code",
      "execution_count": 97,
      "metadata": {
        "id": "ddUDqdgBdpgI"
      },
      "outputs": [],
      "source": [
        "## To display all columns of the Data Frame\n",
        "\n",
        "pd.pandas.set_option('display.max_columns',None)"
      ]
    },
    {
      "cell_type": "code",
      "execution_count": 98,
      "metadata": {
        "colab": {
          "base_uri": "https://localhost:8080/",
          "height": 365
        },
        "id": "vU8FOFZQeLkp",
        "outputId": "c41ddc20-64a9-4ab9-c0d1-32a7bb64cfff"
      },
      "outputs": [
        {
          "output_type": "execute_result",
          "data": {
            "text/plain": [
              "   instance_id                             track_name  popularity  \\\n",
              "0  MSC_83537.0                  Estrellitas y Duendes      49.178   \n",
              "1  MSC_22044.0                               Al Norte      59.827   \n",
              "2  MSC_62017.0       Yeah! (feat. Lil Jon & Ludacris)      89.023   \n",
              "3  MSC_76365.0                          Can’t You See      55.762   \n",
              "4  MSC_71493.0  Sonata III (G Moll), BWV 1029: Adagio      45.095   \n",
              "\n",
              "   acousticness  danceability  duration_ms    energy  instrumentalness  \\\n",
              "0      0.970522      0.580508   214625.776  0.192107          0.000000   \n",
              "1      1.009380      0.687542   216232.195  0.265942          0.000030   \n",
              "2      0.020041      0.967948   273314.723  0.857411          0.000000   \n",
              "3      0.010284      0.616287   189189.605  0.970513          0.000220   \n",
              "4      0.858769      0.280645   410136.987  0.114732          0.002753   \n",
              "\n",
              "             key  liveness  loudness voice_gender   mode  speechiness  \\\n",
              "0        Scale E  0.147134   -14.140          NaN  Major     0.046404   \n",
              "1        Scale A  0.174655   -13.716         Male      ?     0.039949   \n",
              "2        Scale D  0.042030    -4.995       Female  Major     0.119917   \n",
              "3        Scale D  0.124637    -4.262         Both  Major     0.167493   \n",
              "4  Scale F Sharp  0.134782   -26.922       Female  Minor     0.039139   \n",
              "\n",
              "     tempo musician_category   valence music_genre  \n",
              "0  143.788              Band  0.598965        Jazz  \n",
              "1        ?              Band  0.357194        Jazz  \n",
              "2  105.018              Band  0.635525         Rap  \n",
              "3        ?              Duet  0.983750        Rock  \n",
              "4  112.183              Band  0.074412   Classical  "
            ],
            "text/html": [
              "\n",
              "  <div id=\"df-74ea8119-0d14-459c-9e84-2e301f6fe98c\" class=\"colab-df-container\">\n",
              "    <div>\n",
              "<style scoped>\n",
              "    .dataframe tbody tr th:only-of-type {\n",
              "        vertical-align: middle;\n",
              "    }\n",
              "\n",
              "    .dataframe tbody tr th {\n",
              "        vertical-align: top;\n",
              "    }\n",
              "\n",
              "    .dataframe thead th {\n",
              "        text-align: right;\n",
              "    }\n",
              "</style>\n",
              "<table border=\"1\" class=\"dataframe\">\n",
              "  <thead>\n",
              "    <tr style=\"text-align: right;\">\n",
              "      <th></th>\n",
              "      <th>instance_id</th>\n",
              "      <th>track_name</th>\n",
              "      <th>popularity</th>\n",
              "      <th>acousticness</th>\n",
              "      <th>danceability</th>\n",
              "      <th>duration_ms</th>\n",
              "      <th>energy</th>\n",
              "      <th>instrumentalness</th>\n",
              "      <th>key</th>\n",
              "      <th>liveness</th>\n",
              "      <th>loudness</th>\n",
              "      <th>voice_gender</th>\n",
              "      <th>mode</th>\n",
              "      <th>speechiness</th>\n",
              "      <th>tempo</th>\n",
              "      <th>musician_category</th>\n",
              "      <th>valence</th>\n",
              "      <th>music_genre</th>\n",
              "    </tr>\n",
              "  </thead>\n",
              "  <tbody>\n",
              "    <tr>\n",
              "      <th>0</th>\n",
              "      <td>MSC_83537.0</td>\n",
              "      <td>Estrellitas y Duendes</td>\n",
              "      <td>49.178</td>\n",
              "      <td>0.970522</td>\n",
              "      <td>0.580508</td>\n",
              "      <td>214625.776</td>\n",
              "      <td>0.192107</td>\n",
              "      <td>0.000000</td>\n",
              "      <td>Scale E</td>\n",
              "      <td>0.147134</td>\n",
              "      <td>-14.140</td>\n",
              "      <td>NaN</td>\n",
              "      <td>Major</td>\n",
              "      <td>0.046404</td>\n",
              "      <td>143.788</td>\n",
              "      <td>Band</td>\n",
              "      <td>0.598965</td>\n",
              "      <td>Jazz</td>\n",
              "    </tr>\n",
              "    <tr>\n",
              "      <th>1</th>\n",
              "      <td>MSC_22044.0</td>\n",
              "      <td>Al Norte</td>\n",
              "      <td>59.827</td>\n",
              "      <td>1.009380</td>\n",
              "      <td>0.687542</td>\n",
              "      <td>216232.195</td>\n",
              "      <td>0.265942</td>\n",
              "      <td>0.000030</td>\n",
              "      <td>Scale A</td>\n",
              "      <td>0.174655</td>\n",
              "      <td>-13.716</td>\n",
              "      <td>Male</td>\n",
              "      <td>?</td>\n",
              "      <td>0.039949</td>\n",
              "      <td>?</td>\n",
              "      <td>Band</td>\n",
              "      <td>0.357194</td>\n",
              "      <td>Jazz</td>\n",
              "    </tr>\n",
              "    <tr>\n",
              "      <th>2</th>\n",
              "      <td>MSC_62017.0</td>\n",
              "      <td>Yeah! (feat. Lil Jon &amp; Ludacris)</td>\n",
              "      <td>89.023</td>\n",
              "      <td>0.020041</td>\n",
              "      <td>0.967948</td>\n",
              "      <td>273314.723</td>\n",
              "      <td>0.857411</td>\n",
              "      <td>0.000000</td>\n",
              "      <td>Scale D</td>\n",
              "      <td>0.042030</td>\n",
              "      <td>-4.995</td>\n",
              "      <td>Female</td>\n",
              "      <td>Major</td>\n",
              "      <td>0.119917</td>\n",
              "      <td>105.018</td>\n",
              "      <td>Band</td>\n",
              "      <td>0.635525</td>\n",
              "      <td>Rap</td>\n",
              "    </tr>\n",
              "    <tr>\n",
              "      <th>3</th>\n",
              "      <td>MSC_76365.0</td>\n",
              "      <td>Can’t You See</td>\n",
              "      <td>55.762</td>\n",
              "      <td>0.010284</td>\n",
              "      <td>0.616287</td>\n",
              "      <td>189189.605</td>\n",
              "      <td>0.970513</td>\n",
              "      <td>0.000220</td>\n",
              "      <td>Scale D</td>\n",
              "      <td>0.124637</td>\n",
              "      <td>-4.262</td>\n",
              "      <td>Both</td>\n",
              "      <td>Major</td>\n",
              "      <td>0.167493</td>\n",
              "      <td>?</td>\n",
              "      <td>Duet</td>\n",
              "      <td>0.983750</td>\n",
              "      <td>Rock</td>\n",
              "    </tr>\n",
              "    <tr>\n",
              "      <th>4</th>\n",
              "      <td>MSC_71493.0</td>\n",
              "      <td>Sonata III (G Moll), BWV 1029: Adagio</td>\n",
              "      <td>45.095</td>\n",
              "      <td>0.858769</td>\n",
              "      <td>0.280645</td>\n",
              "      <td>410136.987</td>\n",
              "      <td>0.114732</td>\n",
              "      <td>0.002753</td>\n",
              "      <td>Scale F Sharp</td>\n",
              "      <td>0.134782</td>\n",
              "      <td>-26.922</td>\n",
              "      <td>Female</td>\n",
              "      <td>Minor</td>\n",
              "      <td>0.039139</td>\n",
              "      <td>112.183</td>\n",
              "      <td>Band</td>\n",
              "      <td>0.074412</td>\n",
              "      <td>Classical</td>\n",
              "    </tr>\n",
              "  </tbody>\n",
              "</table>\n",
              "</div>\n",
              "    <div class=\"colab-df-buttons\">\n",
              "\n",
              "  <div class=\"colab-df-container\">\n",
              "    <button class=\"colab-df-convert\" onclick=\"convertToInteractive('df-74ea8119-0d14-459c-9e84-2e301f6fe98c')\"\n",
              "            title=\"Convert this dataframe to an interactive table.\"\n",
              "            style=\"display:none;\">\n",
              "\n",
              "  <svg xmlns=\"http://www.w3.org/2000/svg\" height=\"24px\" viewBox=\"0 -960 960 960\">\n",
              "    <path d=\"M120-120v-720h720v720H120Zm60-500h600v-160H180v160Zm220 220h160v-160H400v160Zm0 220h160v-160H400v160ZM180-400h160v-160H180v160Zm440 0h160v-160H620v160ZM180-180h160v-160H180v160Zm440 0h160v-160H620v160Z\"/>\n",
              "  </svg>\n",
              "    </button>\n",
              "\n",
              "  <style>\n",
              "    .colab-df-container {\n",
              "      display:flex;\n",
              "      gap: 12px;\n",
              "    }\n",
              "\n",
              "    .colab-df-convert {\n",
              "      background-color: #E8F0FE;\n",
              "      border: none;\n",
              "      border-radius: 50%;\n",
              "      cursor: pointer;\n",
              "      display: none;\n",
              "      fill: #1967D2;\n",
              "      height: 32px;\n",
              "      padding: 0 0 0 0;\n",
              "      width: 32px;\n",
              "    }\n",
              "\n",
              "    .colab-df-convert:hover {\n",
              "      background-color: #E2EBFA;\n",
              "      box-shadow: 0px 1px 2px rgba(60, 64, 67, 0.3), 0px 1px 3px 1px rgba(60, 64, 67, 0.15);\n",
              "      fill: #174EA6;\n",
              "    }\n",
              "\n",
              "    .colab-df-buttons div {\n",
              "      margin-bottom: 4px;\n",
              "    }\n",
              "\n",
              "    [theme=dark] .colab-df-convert {\n",
              "      background-color: #3B4455;\n",
              "      fill: #D2E3FC;\n",
              "    }\n",
              "\n",
              "    [theme=dark] .colab-df-convert:hover {\n",
              "      background-color: #434B5C;\n",
              "      box-shadow: 0px 1px 3px 1px rgba(0, 0, 0, 0.15);\n",
              "      filter: drop-shadow(0px 1px 2px rgba(0, 0, 0, 0.3));\n",
              "      fill: #FFFFFF;\n",
              "    }\n",
              "  </style>\n",
              "\n",
              "    <script>\n",
              "      const buttonEl =\n",
              "        document.querySelector('#df-74ea8119-0d14-459c-9e84-2e301f6fe98c button.colab-df-convert');\n",
              "      buttonEl.style.display =\n",
              "        google.colab.kernel.accessAllowed ? 'block' : 'none';\n",
              "\n",
              "      async function convertToInteractive(key) {\n",
              "        const element = document.querySelector('#df-74ea8119-0d14-459c-9e84-2e301f6fe98c');\n",
              "        const dataTable =\n",
              "          await google.colab.kernel.invokeFunction('convertToInteractive',\n",
              "                                                    [key], {});\n",
              "        if (!dataTable) return;\n",
              "\n",
              "        const docLinkHtml = 'Like what you see? Visit the ' +\n",
              "          '<a target=\"_blank\" href=https://colab.research.google.com/notebooks/data_table.ipynb>data table notebook</a>'\n",
              "          + ' to learn more about interactive tables.';\n",
              "        element.innerHTML = '';\n",
              "        dataTable['output_type'] = 'display_data';\n",
              "        await google.colab.output.renderOutput(dataTable, element);\n",
              "        const docLink = document.createElement('div');\n",
              "        docLink.innerHTML = docLinkHtml;\n",
              "        element.appendChild(docLink);\n",
              "      }\n",
              "    </script>\n",
              "  </div>\n",
              "\n",
              "\n",
              "<div id=\"df-deabb20c-2aa9-49b3-b1df-e50edb522222\">\n",
              "  <button class=\"colab-df-quickchart\" onclick=\"quickchart('df-deabb20c-2aa9-49b3-b1df-e50edb522222')\"\n",
              "            title=\"Suggest charts.\"\n",
              "            style=\"display:none;\">\n",
              "\n",
              "<svg xmlns=\"http://www.w3.org/2000/svg\" height=\"24px\"viewBox=\"0 0 24 24\"\n",
              "     width=\"24px\">\n",
              "    <g>\n",
              "        <path d=\"M19 3H5c-1.1 0-2 .9-2 2v14c0 1.1.9 2 2 2h14c1.1 0 2-.9 2-2V5c0-1.1-.9-2-2-2zM9 17H7v-7h2v7zm4 0h-2V7h2v10zm4 0h-2v-4h2v4z\"/>\n",
              "    </g>\n",
              "</svg>\n",
              "  </button>\n",
              "\n",
              "<style>\n",
              "  .colab-df-quickchart {\n",
              "      --bg-color: #E8F0FE;\n",
              "      --fill-color: #1967D2;\n",
              "      --hover-bg-color: #E2EBFA;\n",
              "      --hover-fill-color: #174EA6;\n",
              "      --disabled-fill-color: #AAA;\n",
              "      --disabled-bg-color: #DDD;\n",
              "  }\n",
              "\n",
              "  [theme=dark] .colab-df-quickchart {\n",
              "      --bg-color: #3B4455;\n",
              "      --fill-color: #D2E3FC;\n",
              "      --hover-bg-color: #434B5C;\n",
              "      --hover-fill-color: #FFFFFF;\n",
              "      --disabled-bg-color: #3B4455;\n",
              "      --disabled-fill-color: #666;\n",
              "  }\n",
              "\n",
              "  .colab-df-quickchart {\n",
              "    background-color: var(--bg-color);\n",
              "    border: none;\n",
              "    border-radius: 50%;\n",
              "    cursor: pointer;\n",
              "    display: none;\n",
              "    fill: var(--fill-color);\n",
              "    height: 32px;\n",
              "    padding: 0;\n",
              "    width: 32px;\n",
              "  }\n",
              "\n",
              "  .colab-df-quickchart:hover {\n",
              "    background-color: var(--hover-bg-color);\n",
              "    box-shadow: 0 1px 2px rgba(60, 64, 67, 0.3), 0 1px 3px 1px rgba(60, 64, 67, 0.15);\n",
              "    fill: var(--button-hover-fill-color);\n",
              "  }\n",
              "\n",
              "  .colab-df-quickchart-complete:disabled,\n",
              "  .colab-df-quickchart-complete:disabled:hover {\n",
              "    background-color: var(--disabled-bg-color);\n",
              "    fill: var(--disabled-fill-color);\n",
              "    box-shadow: none;\n",
              "  }\n",
              "\n",
              "  .colab-df-spinner {\n",
              "    border: 2px solid var(--fill-color);\n",
              "    border-color: transparent;\n",
              "    border-bottom-color: var(--fill-color);\n",
              "    animation:\n",
              "      spin 1s steps(1) infinite;\n",
              "  }\n",
              "\n",
              "  @keyframes spin {\n",
              "    0% {\n",
              "      border-color: transparent;\n",
              "      border-bottom-color: var(--fill-color);\n",
              "      border-left-color: var(--fill-color);\n",
              "    }\n",
              "    20% {\n",
              "      border-color: transparent;\n",
              "      border-left-color: var(--fill-color);\n",
              "      border-top-color: var(--fill-color);\n",
              "    }\n",
              "    30% {\n",
              "      border-color: transparent;\n",
              "      border-left-color: var(--fill-color);\n",
              "      border-top-color: var(--fill-color);\n",
              "      border-right-color: var(--fill-color);\n",
              "    }\n",
              "    40% {\n",
              "      border-color: transparent;\n",
              "      border-right-color: var(--fill-color);\n",
              "      border-top-color: var(--fill-color);\n",
              "    }\n",
              "    60% {\n",
              "      border-color: transparent;\n",
              "      border-right-color: var(--fill-color);\n",
              "    }\n",
              "    80% {\n",
              "      border-color: transparent;\n",
              "      border-right-color: var(--fill-color);\n",
              "      border-bottom-color: var(--fill-color);\n",
              "    }\n",
              "    90% {\n",
              "      border-color: transparent;\n",
              "      border-bottom-color: var(--fill-color);\n",
              "    }\n",
              "  }\n",
              "</style>\n",
              "\n",
              "  <script>\n",
              "    async function quickchart(key) {\n",
              "      const quickchartButtonEl =\n",
              "        document.querySelector('#' + key + ' button');\n",
              "      quickchartButtonEl.disabled = true;  // To prevent multiple clicks.\n",
              "      quickchartButtonEl.classList.add('colab-df-spinner');\n",
              "      try {\n",
              "        const charts = await google.colab.kernel.invokeFunction(\n",
              "            'suggestCharts', [key], {});\n",
              "      } catch (error) {\n",
              "        console.error('Error during call to suggestCharts:', error);\n",
              "      }\n",
              "      quickchartButtonEl.classList.remove('colab-df-spinner');\n",
              "      quickchartButtonEl.classList.add('colab-df-quickchart-complete');\n",
              "    }\n",
              "    (() => {\n",
              "      let quickchartButtonEl =\n",
              "        document.querySelector('#df-deabb20c-2aa9-49b3-b1df-e50edb522222 button');\n",
              "      quickchartButtonEl.style.display =\n",
              "        google.colab.kernel.accessAllowed ? 'block' : 'none';\n",
              "    })();\n",
              "  </script>\n",
              "</div>\n",
              "    </div>\n",
              "  </div>\n"
            ]
          },
          "metadata": {},
          "execution_count": 98
        }
      ],
      "source": [
        "data.head()"
      ]
    },
    {
      "cell_type": "code",
      "execution_count": 99,
      "metadata": {
        "colab": {
          "base_uri": "https://localhost:8080/"
        },
        "id": "fH6FvOy3eTJv",
        "outputId": "19583215-bf82-46b9-8e61-09ef5b08339d"
      },
      "outputs": [
        {
          "output_type": "execute_result",
          "data": {
            "text/plain": [
              "Index(['instance_id', 'track_name', 'popularity', 'acousticness',\n",
              "       'danceability', 'duration_ms', 'energy', 'instrumentalness', 'key',\n",
              "       'liveness', 'loudness', 'voice_gender', 'mode', 'speechiness', 'tempo',\n",
              "       'musician_category', 'valence', 'music_genre'],\n",
              "      dtype='object')"
            ]
          },
          "metadata": {},
          "execution_count": 99
        }
      ],
      "source": [
        "# To display column names\n",
        "\n",
        "data.columns"
      ]
    },
    {
      "cell_type": "code",
      "execution_count": 100,
      "metadata": {
        "colab": {
          "base_uri": "https://localhost:8080/"
        },
        "id": "E6SeB9PjeZ1p",
        "outputId": "68178240-19cf-4c68-c740-688cce5f1274"
      },
      "outputs": [
        {
          "output_type": "execute_result",
          "data": {
            "text/plain": [
              "(15681, 18)"
            ]
          },
          "metadata": {},
          "execution_count": 100
        }
      ],
      "source": [
        "# Number of observations per feature ie 5000 rows per 20 colums\n",
        "\n",
        "data.shape"
      ]
    },
    {
      "cell_type": "markdown",
      "metadata": {
        "id": "BSHK97kYswTa"
      },
      "source": [
        "We have 15681 rows and 13 columns"
      ]
    },
    {
      "cell_type": "code",
      "execution_count": 65,
      "metadata": {
        "colab": {
          "base_uri": "https://localhost:8080/",
          "height": 300
        },
        "id": "i9UqCaBZep2V",
        "outputId": "f3532bbf-9ea9-41a6-9b6a-8d79b4c23c42"
      },
      "outputs": [
        {
          "output_type": "execute_result",
          "data": {
            "text/plain": [
              "         popularity  acousticness  danceability   duration_ms        energy  \\\n",
              "count  15039.000000  15681.000000  15125.000000  1.558700e+04  15587.000000   \n",
              "mean      50.822720      0.446922      0.570106  2.480008e+05      0.426977   \n",
              "std       17.679789      0.416981      0.215045  1.568312e+05      0.514145   \n",
              "min        0.000000      0.000002      0.063962 -1.000000e+00     -1.000000   \n",
              "25%       39.017000      0.044521      0.418635  1.860163e+05      0.158277   \n",
              "50%       54.109000      0.295272      0.586114  2.362127e+05      0.560389   \n",
              "75%       63.449000      0.929001      0.733073  2.975593e+05      0.791881   \n",
              "max      108.512000      1.094410      1.072089  3.410383e+06      1.094853   \n",
              "\n",
              "       instrumentalness      liveness      loudness   speechiness  \\\n",
              "count      15586.000000  15681.000000  15645.000000  15655.000000   \n",
              "mean           0.264290      0.194089    -11.621471      0.096411   \n",
              "std            0.395788      0.160291      8.663364      0.105647   \n",
              "min            0.000000      0.016652    -50.054000      0.023858   \n",
              "25%            0.000000      0.101674    -15.504000      0.039549   \n",
              "50%            0.000719      0.128784     -8.611000      0.050425   \n",
              "75%            0.638930      0.228973     -5.715000      0.094230   \n",
              "max            1.078601      1.080959      1.389000      1.000445   \n",
              "\n",
              "            valence  \n",
              "count  15004.000000  \n",
              "mean       0.451400  \n",
              "std        0.277220  \n",
              "min        0.000000  \n",
              "25%        0.212242  \n",
              "50%        0.432478  \n",
              "75%        0.665369  \n",
              "max        1.076971  "
            ],
            "text/html": [
              "\n",
              "  <div id=\"df-99b01227-e0d0-4e3c-a359-326be65c4cad\" class=\"colab-df-container\">\n",
              "    <div>\n",
              "<style scoped>\n",
              "    .dataframe tbody tr th:only-of-type {\n",
              "        vertical-align: middle;\n",
              "    }\n",
              "\n",
              "    .dataframe tbody tr th {\n",
              "        vertical-align: top;\n",
              "    }\n",
              "\n",
              "    .dataframe thead th {\n",
              "        text-align: right;\n",
              "    }\n",
              "</style>\n",
              "<table border=\"1\" class=\"dataframe\">\n",
              "  <thead>\n",
              "    <tr style=\"text-align: right;\">\n",
              "      <th></th>\n",
              "      <th>popularity</th>\n",
              "      <th>acousticness</th>\n",
              "      <th>danceability</th>\n",
              "      <th>duration_ms</th>\n",
              "      <th>energy</th>\n",
              "      <th>instrumentalness</th>\n",
              "      <th>liveness</th>\n",
              "      <th>loudness</th>\n",
              "      <th>speechiness</th>\n",
              "      <th>valence</th>\n",
              "    </tr>\n",
              "  </thead>\n",
              "  <tbody>\n",
              "    <tr>\n",
              "      <th>count</th>\n",
              "      <td>15039.000000</td>\n",
              "      <td>15681.000000</td>\n",
              "      <td>15125.000000</td>\n",
              "      <td>1.558700e+04</td>\n",
              "      <td>15587.000000</td>\n",
              "      <td>15586.000000</td>\n",
              "      <td>15681.000000</td>\n",
              "      <td>15645.000000</td>\n",
              "      <td>15655.000000</td>\n",
              "      <td>15004.000000</td>\n",
              "    </tr>\n",
              "    <tr>\n",
              "      <th>mean</th>\n",
              "      <td>50.822720</td>\n",
              "      <td>0.446922</td>\n",
              "      <td>0.570106</td>\n",
              "      <td>2.480008e+05</td>\n",
              "      <td>0.426977</td>\n",
              "      <td>0.264290</td>\n",
              "      <td>0.194089</td>\n",
              "      <td>-11.621471</td>\n",
              "      <td>0.096411</td>\n",
              "      <td>0.451400</td>\n",
              "    </tr>\n",
              "    <tr>\n",
              "      <th>std</th>\n",
              "      <td>17.679789</td>\n",
              "      <td>0.416981</td>\n",
              "      <td>0.215045</td>\n",
              "      <td>1.568312e+05</td>\n",
              "      <td>0.514145</td>\n",
              "      <td>0.395788</td>\n",
              "      <td>0.160291</td>\n",
              "      <td>8.663364</td>\n",
              "      <td>0.105647</td>\n",
              "      <td>0.277220</td>\n",
              "    </tr>\n",
              "    <tr>\n",
              "      <th>min</th>\n",
              "      <td>0.000000</td>\n",
              "      <td>0.000002</td>\n",
              "      <td>0.063962</td>\n",
              "      <td>-1.000000e+00</td>\n",
              "      <td>-1.000000</td>\n",
              "      <td>0.000000</td>\n",
              "      <td>0.016652</td>\n",
              "      <td>-50.054000</td>\n",
              "      <td>0.023858</td>\n",
              "      <td>0.000000</td>\n",
              "    </tr>\n",
              "    <tr>\n",
              "      <th>25%</th>\n",
              "      <td>39.017000</td>\n",
              "      <td>0.044521</td>\n",
              "      <td>0.418635</td>\n",
              "      <td>1.860163e+05</td>\n",
              "      <td>0.158277</td>\n",
              "      <td>0.000000</td>\n",
              "      <td>0.101674</td>\n",
              "      <td>-15.504000</td>\n",
              "      <td>0.039549</td>\n",
              "      <td>0.212242</td>\n",
              "    </tr>\n",
              "    <tr>\n",
              "      <th>50%</th>\n",
              "      <td>54.109000</td>\n",
              "      <td>0.295272</td>\n",
              "      <td>0.586114</td>\n",
              "      <td>2.362127e+05</td>\n",
              "      <td>0.560389</td>\n",
              "      <td>0.000719</td>\n",
              "      <td>0.128784</td>\n",
              "      <td>-8.611000</td>\n",
              "      <td>0.050425</td>\n",
              "      <td>0.432478</td>\n",
              "    </tr>\n",
              "    <tr>\n",
              "      <th>75%</th>\n",
              "      <td>63.449000</td>\n",
              "      <td>0.929001</td>\n",
              "      <td>0.733073</td>\n",
              "      <td>2.975593e+05</td>\n",
              "      <td>0.791881</td>\n",
              "      <td>0.638930</td>\n",
              "      <td>0.228973</td>\n",
              "      <td>-5.715000</td>\n",
              "      <td>0.094230</td>\n",
              "      <td>0.665369</td>\n",
              "    </tr>\n",
              "    <tr>\n",
              "      <th>max</th>\n",
              "      <td>108.512000</td>\n",
              "      <td>1.094410</td>\n",
              "      <td>1.072089</td>\n",
              "      <td>3.410383e+06</td>\n",
              "      <td>1.094853</td>\n",
              "      <td>1.078601</td>\n",
              "      <td>1.080959</td>\n",
              "      <td>1.389000</td>\n",
              "      <td>1.000445</td>\n",
              "      <td>1.076971</td>\n",
              "    </tr>\n",
              "  </tbody>\n",
              "</table>\n",
              "</div>\n",
              "    <div class=\"colab-df-buttons\">\n",
              "\n",
              "  <div class=\"colab-df-container\">\n",
              "    <button class=\"colab-df-convert\" onclick=\"convertToInteractive('df-99b01227-e0d0-4e3c-a359-326be65c4cad')\"\n",
              "            title=\"Convert this dataframe to an interactive table.\"\n",
              "            style=\"display:none;\">\n",
              "\n",
              "  <svg xmlns=\"http://www.w3.org/2000/svg\" height=\"24px\" viewBox=\"0 -960 960 960\">\n",
              "    <path d=\"M120-120v-720h720v720H120Zm60-500h600v-160H180v160Zm220 220h160v-160H400v160Zm0 220h160v-160H400v160ZM180-400h160v-160H180v160Zm440 0h160v-160H620v160ZM180-180h160v-160H180v160Zm440 0h160v-160H620v160Z\"/>\n",
              "  </svg>\n",
              "    </button>\n",
              "\n",
              "  <style>\n",
              "    .colab-df-container {\n",
              "      display:flex;\n",
              "      gap: 12px;\n",
              "    }\n",
              "\n",
              "    .colab-df-convert {\n",
              "      background-color: #E8F0FE;\n",
              "      border: none;\n",
              "      border-radius: 50%;\n",
              "      cursor: pointer;\n",
              "      display: none;\n",
              "      fill: #1967D2;\n",
              "      height: 32px;\n",
              "      padding: 0 0 0 0;\n",
              "      width: 32px;\n",
              "    }\n",
              "\n",
              "    .colab-df-convert:hover {\n",
              "      background-color: #E2EBFA;\n",
              "      box-shadow: 0px 1px 2px rgba(60, 64, 67, 0.3), 0px 1px 3px 1px rgba(60, 64, 67, 0.15);\n",
              "      fill: #174EA6;\n",
              "    }\n",
              "\n",
              "    .colab-df-buttons div {\n",
              "      margin-bottom: 4px;\n",
              "    }\n",
              "\n",
              "    [theme=dark] .colab-df-convert {\n",
              "      background-color: #3B4455;\n",
              "      fill: #D2E3FC;\n",
              "    }\n",
              "\n",
              "    [theme=dark] .colab-df-convert:hover {\n",
              "      background-color: #434B5C;\n",
              "      box-shadow: 0px 1px 3px 1px rgba(0, 0, 0, 0.15);\n",
              "      filter: drop-shadow(0px 1px 2px rgba(0, 0, 0, 0.3));\n",
              "      fill: #FFFFFF;\n",
              "    }\n",
              "  </style>\n",
              "\n",
              "    <script>\n",
              "      const buttonEl =\n",
              "        document.querySelector('#df-99b01227-e0d0-4e3c-a359-326be65c4cad button.colab-df-convert');\n",
              "      buttonEl.style.display =\n",
              "        google.colab.kernel.accessAllowed ? 'block' : 'none';\n",
              "\n",
              "      async function convertToInteractive(key) {\n",
              "        const element = document.querySelector('#df-99b01227-e0d0-4e3c-a359-326be65c4cad');\n",
              "        const dataTable =\n",
              "          await google.colab.kernel.invokeFunction('convertToInteractive',\n",
              "                                                    [key], {});\n",
              "        if (!dataTable) return;\n",
              "\n",
              "        const docLinkHtml = 'Like what you see? Visit the ' +\n",
              "          '<a target=\"_blank\" href=https://colab.research.google.com/notebooks/data_table.ipynb>data table notebook</a>'\n",
              "          + ' to learn more about interactive tables.';\n",
              "        element.innerHTML = '';\n",
              "        dataTable['output_type'] = 'display_data';\n",
              "        await google.colab.output.renderOutput(dataTable, element);\n",
              "        const docLink = document.createElement('div');\n",
              "        docLink.innerHTML = docLinkHtml;\n",
              "        element.appendChild(docLink);\n",
              "      }\n",
              "    </script>\n",
              "  </div>\n",
              "\n",
              "\n",
              "<div id=\"df-8b5d5f42-0b28-4378-8054-e40f80cb56e5\">\n",
              "  <button class=\"colab-df-quickchart\" onclick=\"quickchart('df-8b5d5f42-0b28-4378-8054-e40f80cb56e5')\"\n",
              "            title=\"Suggest charts.\"\n",
              "            style=\"display:none;\">\n",
              "\n",
              "<svg xmlns=\"http://www.w3.org/2000/svg\" height=\"24px\"viewBox=\"0 0 24 24\"\n",
              "     width=\"24px\">\n",
              "    <g>\n",
              "        <path d=\"M19 3H5c-1.1 0-2 .9-2 2v14c0 1.1.9 2 2 2h14c1.1 0 2-.9 2-2V5c0-1.1-.9-2-2-2zM9 17H7v-7h2v7zm4 0h-2V7h2v10zm4 0h-2v-4h2v4z\"/>\n",
              "    </g>\n",
              "</svg>\n",
              "  </button>\n",
              "\n",
              "<style>\n",
              "  .colab-df-quickchart {\n",
              "      --bg-color: #E8F0FE;\n",
              "      --fill-color: #1967D2;\n",
              "      --hover-bg-color: #E2EBFA;\n",
              "      --hover-fill-color: #174EA6;\n",
              "      --disabled-fill-color: #AAA;\n",
              "      --disabled-bg-color: #DDD;\n",
              "  }\n",
              "\n",
              "  [theme=dark] .colab-df-quickchart {\n",
              "      --bg-color: #3B4455;\n",
              "      --fill-color: #D2E3FC;\n",
              "      --hover-bg-color: #434B5C;\n",
              "      --hover-fill-color: #FFFFFF;\n",
              "      --disabled-bg-color: #3B4455;\n",
              "      --disabled-fill-color: #666;\n",
              "  }\n",
              "\n",
              "  .colab-df-quickchart {\n",
              "    background-color: var(--bg-color);\n",
              "    border: none;\n",
              "    border-radius: 50%;\n",
              "    cursor: pointer;\n",
              "    display: none;\n",
              "    fill: var(--fill-color);\n",
              "    height: 32px;\n",
              "    padding: 0;\n",
              "    width: 32px;\n",
              "  }\n",
              "\n",
              "  .colab-df-quickchart:hover {\n",
              "    background-color: var(--hover-bg-color);\n",
              "    box-shadow: 0 1px 2px rgba(60, 64, 67, 0.3), 0 1px 3px 1px rgba(60, 64, 67, 0.15);\n",
              "    fill: var(--button-hover-fill-color);\n",
              "  }\n",
              "\n",
              "  .colab-df-quickchart-complete:disabled,\n",
              "  .colab-df-quickchart-complete:disabled:hover {\n",
              "    background-color: var(--disabled-bg-color);\n",
              "    fill: var(--disabled-fill-color);\n",
              "    box-shadow: none;\n",
              "  }\n",
              "\n",
              "  .colab-df-spinner {\n",
              "    border: 2px solid var(--fill-color);\n",
              "    border-color: transparent;\n",
              "    border-bottom-color: var(--fill-color);\n",
              "    animation:\n",
              "      spin 1s steps(1) infinite;\n",
              "  }\n",
              "\n",
              "  @keyframes spin {\n",
              "    0% {\n",
              "      border-color: transparent;\n",
              "      border-bottom-color: var(--fill-color);\n",
              "      border-left-color: var(--fill-color);\n",
              "    }\n",
              "    20% {\n",
              "      border-color: transparent;\n",
              "      border-left-color: var(--fill-color);\n",
              "      border-top-color: var(--fill-color);\n",
              "    }\n",
              "    30% {\n",
              "      border-color: transparent;\n",
              "      border-left-color: var(--fill-color);\n",
              "      border-top-color: var(--fill-color);\n",
              "      border-right-color: var(--fill-color);\n",
              "    }\n",
              "    40% {\n",
              "      border-color: transparent;\n",
              "      border-right-color: var(--fill-color);\n",
              "      border-top-color: var(--fill-color);\n",
              "    }\n",
              "    60% {\n",
              "      border-color: transparent;\n",
              "      border-right-color: var(--fill-color);\n",
              "    }\n",
              "    80% {\n",
              "      border-color: transparent;\n",
              "      border-right-color: var(--fill-color);\n",
              "      border-bottom-color: var(--fill-color);\n",
              "    }\n",
              "    90% {\n",
              "      border-color: transparent;\n",
              "      border-bottom-color: var(--fill-color);\n",
              "    }\n",
              "  }\n",
              "</style>\n",
              "\n",
              "  <script>\n",
              "    async function quickchart(key) {\n",
              "      const quickchartButtonEl =\n",
              "        document.querySelector('#' + key + ' button');\n",
              "      quickchartButtonEl.disabled = true;  // To prevent multiple clicks.\n",
              "      quickchartButtonEl.classList.add('colab-df-spinner');\n",
              "      try {\n",
              "        const charts = await google.colab.kernel.invokeFunction(\n",
              "            'suggestCharts', [key], {});\n",
              "      } catch (error) {\n",
              "        console.error('Error during call to suggestCharts:', error);\n",
              "      }\n",
              "      quickchartButtonEl.classList.remove('colab-df-spinner');\n",
              "      quickchartButtonEl.classList.add('colab-df-quickchart-complete');\n",
              "    }\n",
              "    (() => {\n",
              "      let quickchartButtonEl =\n",
              "        document.querySelector('#df-8b5d5f42-0b28-4378-8054-e40f80cb56e5 button');\n",
              "      quickchartButtonEl.style.display =\n",
              "        google.colab.kernel.accessAllowed ? 'block' : 'none';\n",
              "    })();\n",
              "  </script>\n",
              "</div>\n",
              "    </div>\n",
              "  </div>\n"
            ]
          },
          "metadata": {},
          "execution_count": 65
        }
      ],
      "source": [
        "#statistical summary of the data\n",
        "\n",
        "data.describe()"
      ]
    },
    {
      "cell_type": "markdown",
      "metadata": {
        "id": "Vxd_iyULf0SK"
      },
      "source": [
        "#**1.Exploratory Data Analysis**"
      ]
    },
    {
      "cell_type": "markdown",
      "metadata": {
        "id": "p0HrHHSrf7W7"
      },
      "source": [
        "In Data Analysis We Try to analyse the following:\n",
        "\n",
        "1.Missing Values\n",
        "\n",
        "2.All the Numerical Variables\n",
        "\n",
        "3.Distribution of Numerical Variables\n",
        "\n",
        "4.Categorical Variables\n",
        "\n",
        "5.Cardinality of Categorical Variables\n",
        "\n",
        "7.Relationship between independent and dependent feature"
      ]
    },
    {
      "cell_type": "code",
      "execution_count": 66,
      "metadata": {
        "colab": {
          "base_uri": "https://localhost:8080/"
        },
        "id": "GYwTBv-nfoFN",
        "outputId": "04e5f1a7-da6e-44e4-96cc-a788ea48832e"
      },
      "outputs": [
        {
          "output_type": "execute_result",
          "data": {
            "text/plain": [
              "instance_id           object\n",
              "track_name            object\n",
              "popularity           float64\n",
              "acousticness         float64\n",
              "danceability         float64\n",
              "duration_ms          float64\n",
              "energy               float64\n",
              "instrumentalness     float64\n",
              "key                   object\n",
              "liveness             float64\n",
              "loudness             float64\n",
              "voice_gender          object\n",
              "mode                  object\n",
              "speechiness          float64\n",
              "tempo                 object\n",
              "musician_category     object\n",
              "valence              float64\n",
              "music_genre           object\n",
              "dtype: object"
            ]
          },
          "metadata": {},
          "execution_count": 66
        }
      ],
      "source": [
        "data.dtypes"
      ]
    },
    {
      "cell_type": "markdown",
      "metadata": {
        "id": "yOw-ClOGgnKx"
      },
      "source": [
        "*tempo is shown as object that need to convert to numeric.*\n",
        "\n",
        "*all question marks and null values need to be replaced*"
      ]
    },
    {
      "cell_type": "code",
      "execution_count": 67,
      "metadata": {
        "colab": {
          "base_uri": "https://localhost:8080/"
        },
        "id": "6wl8XS7DmAS6",
        "outputId": "7ff512b2-283b-4ff0-c3c4-ffe6c1f6dd16"
      },
      "outputs": [
        {
          "output_type": "execute_result",
          "data": {
            "text/plain": [
              "Index(['mode', 'tempo'], dtype='object')"
            ]
          },
          "metadata": {},
          "execution_count": 67
        }
      ],
      "source": [
        "data.columns[data.isin(['?']).any()]"
      ]
    },
    {
      "cell_type": "markdown",
      "metadata": {
        "id": "fm4_QfUqnqr5"
      },
      "source": [
        "*mode and tempo contains ?*"
      ]
    },
    {
      "cell_type": "markdown",
      "metadata": {
        "id": "g_wBq1_bhC8p"
      },
      "source": [
        "**1.Missing Values**"
      ]
    },
    {
      "cell_type": "code",
      "execution_count": 68,
      "metadata": {
        "colab": {
          "base_uri": "https://localhost:8080/"
        },
        "id": "EIyNU4rVgBtR",
        "outputId": "edc32550-3b88-4fca-ffe7-d89ac2aa2683"
      },
      "outputs": [
        {
          "output_type": "execute_result",
          "data": {
            "text/plain": [
              "instance_id             0\n",
              "track_name              0\n",
              "popularity            642\n",
              "acousticness            0\n",
              "danceability          556\n",
              "duration_ms            94\n",
              "energy                 94\n",
              "instrumentalness       95\n",
              "key                     0\n",
              "liveness                0\n",
              "loudness               36\n",
              "voice_gender          765\n",
              "mode                   35\n",
              "speechiness            26\n",
              "tempo                   0\n",
              "musician_category    1360\n",
              "valence               677\n",
              "music_genre             0\n",
              "dtype: int64"
            ]
          },
          "metadata": {},
          "execution_count": 68
        }
      ],
      "source": [
        "# Sum of missing values in each columns\n",
        "\n",
        "\n",
        "data.isnull().sum()"
      ]
    },
    {
      "cell_type": "markdown",
      "metadata": {
        "id": "rxm8tu6gngeO"
      },
      "source": [
        "*mode contains missing values and tempo does not*"
      ]
    },
    {
      "cell_type": "code",
      "execution_count": 69,
      "metadata": {
        "colab": {
          "base_uri": "https://localhost:8080/"
        },
        "id": "BujrVzClhlsa",
        "outputId": "1eb24eed-6a31-4afc-99c3-ee4f5dac2116"
      },
      "outputs": [
        {
          "output_type": "stream",
          "name": "stdout",
          "text": [
            "popularity 0.041  % missing values\n",
            "danceability 0.035  % missing values\n",
            "duration_ms 0.006  % missing values\n",
            "energy 0.006  % missing values\n",
            "instrumentalness 0.006  % missing values\n",
            "loudness 0.002  % missing values\n",
            "voice_gender 0.049  % missing values\n",
            "mode 0.002  % missing values\n",
            "speechiness 0.002  % missing values\n",
            "musician_category 0.087  % missing values\n",
            "valence 0.043  % missing values\n"
          ]
        }
      ],
      "source": [
        "#Checking the percentage of null values in each feature\n",
        "#Step 1 - Creating a list of features with null values\n",
        "\n",
        "features_with_na = [features for features in data.columns if data[features].isnull().sum()>=1]\n",
        "\n",
        "#Step2 -Print the feature name and percentage of missing values\n",
        "\n",
        "for feature in features_with_na:\n",
        "    print(feature,np.round(data[feature].isnull().mean(),3), ' % missing values') # Round to 3 Desimal points"
      ]
    },
    {
      "cell_type": "code",
      "execution_count": 70,
      "metadata": {
        "colab": {
          "base_uri": "https://localhost:8080/"
        },
        "id": "bWH6sCJgheZK",
        "outputId": "25613572-a03c-4089-8e5a-ee1e3d5630be"
      },
      "outputs": [
        {
          "output_type": "execute_result",
          "data": {
            "text/plain": [
              "['popularity',\n",
              " 'danceability',\n",
              " 'duration_ms',\n",
              " 'energy',\n",
              " 'instrumentalness',\n",
              " 'loudness',\n",
              " 'voice_gender',\n",
              " 'mode',\n",
              " 'speechiness',\n",
              " 'musician_category',\n",
              " 'valence']"
            ]
          },
          "metadata": {},
          "execution_count": 70
        }
      ],
      "source": [
        "features_with_na"
      ]
    },
    {
      "cell_type": "code",
      "execution_count": 71,
      "metadata": {
        "colab": {
          "base_uri": "https://localhost:8080/"
        },
        "id": "Hd_Jn29Kh4kj",
        "outputId": "d3f51ad7-a955-4c53-abf9-3241676bd4c3"
      },
      "outputs": [
        {
          "output_type": "execute_result",
          "data": {
            "text/plain": [
              "11"
            ]
          },
          "metadata": {},
          "execution_count": 71
        }
      ],
      "source": [
        "len(features_with_na)"
      ]
    },
    {
      "cell_type": "markdown",
      "metadata": {
        "id": "H2uKw4HOh-KC"
      },
      "source": [
        "*11 columns are found with null values*"
      ]
    },
    {
      "cell_type": "code",
      "execution_count": 101,
      "metadata": {
        "id": "q3AOZ5DehKzF"
      },
      "outputs": [],
      "source": [
        "#replace the ? in coloumns with \"NaN\"\n",
        "\n",
        "for features in features_with_na:\n",
        "  data[features] = data[features].replace('?', pd.NA)"
      ]
    },
    {
      "cell_type": "code",
      "execution_count": 73,
      "metadata": {
        "colab": {
          "base_uri": "https://localhost:8080/"
        },
        "id": "mJv-TgYxjWvU",
        "outputId": "4c7f312f-9647-4e7e-b9e3-3bad4402c357"
      },
      "outputs": [
        {
          "output_type": "execute_result",
          "data": {
            "text/plain": [
              "1114"
            ]
          },
          "metadata": {},
          "execution_count": 73
        }
      ],
      "source": [
        "# Sum of missing values in each columns\n",
        "\n",
        "\n",
        "data['mode'].isnull().sum()"
      ]
    },
    {
      "cell_type": "markdown",
      "metadata": {
        "id": "BjWgNmEvn8Vj"
      },
      "source": [
        "*missing values in mode increased after replacing ?*"
      ]
    },
    {
      "cell_type": "code",
      "execution_count": 74,
      "metadata": {
        "colab": {
          "base_uri": "https://localhost:8080/"
        },
        "id": "a2OidVzKjgAK",
        "outputId": "9251717e-a654-4259-f889-e7ff8bbb292b"
      },
      "outputs": [
        {
          "output_type": "stream",
          "name": "stdout",
          "text": [
            "mode 0.071  % missing values\n"
          ]
        }
      ],
      "source": [
        "#Checking the percentage of null values in mode\n",
        "\n",
        "print('mode',np.round(data['mode'].isnull().mean(),3), ' % missing values') # Round to 3 Desimal points"
      ]
    },
    {
      "cell_type": "code",
      "execution_count": 75,
      "metadata": {
        "colab": {
          "base_uri": "https://localhost:8080/",
          "height": 365
        },
        "id": "Q7v0kpHwjrXi",
        "outputId": "aa05143c-1e84-4b56-8960-0108299f09b3"
      },
      "outputs": [
        {
          "output_type": "execute_result",
          "data": {
            "text/plain": [
              "   instance_id                             track_name  popularity  \\\n",
              "0  MSC_83537.0                  Estrellitas y Duendes      49.178   \n",
              "1  MSC_22044.0                               Al Norte      59.827   \n",
              "2  MSC_62017.0       Yeah! (feat. Lil Jon & Ludacris)      89.023   \n",
              "3  MSC_76365.0                          Can’t You See      55.762   \n",
              "4  MSC_71493.0  Sonata III (G Moll), BWV 1029: Adagio      45.095   \n",
              "\n",
              "   acousticness  danceability  duration_ms    energy  instrumentalness  \\\n",
              "0      0.970522      0.580508   214625.776  0.192107          0.000000   \n",
              "1      1.009380      0.687542   216232.195  0.265942          0.000030   \n",
              "2      0.020041      0.967948   273314.723  0.857411          0.000000   \n",
              "3      0.010284      0.616287   189189.605  0.970513          0.000220   \n",
              "4      0.858769      0.280645   410136.987  0.114732          0.002753   \n",
              "\n",
              "             key  liveness  loudness voice_gender   mode  speechiness  \\\n",
              "0        Scale E  0.147134   -14.140          NaN  Major     0.046404   \n",
              "1        Scale A  0.174655   -13.716         Male   <NA>     0.039949   \n",
              "2        Scale D  0.042030    -4.995       Female  Major     0.119917   \n",
              "3        Scale D  0.124637    -4.262         Both  Major     0.167493   \n",
              "4  Scale F Sharp  0.134782   -26.922       Female  Minor     0.039139   \n",
              "\n",
              "     tempo musician_category   valence music_genre  \n",
              "0  143.788              Band  0.598965        Jazz  \n",
              "1        ?              Band  0.357194        Jazz  \n",
              "2  105.018              Band  0.635525         Rap  \n",
              "3        ?              Duet  0.983750        Rock  \n",
              "4  112.183              Band  0.074412   Classical  "
            ],
            "text/html": [
              "\n",
              "  <div id=\"df-8c708c78-04a2-4b67-9a79-c157158e8fb8\" class=\"colab-df-container\">\n",
              "    <div>\n",
              "<style scoped>\n",
              "    .dataframe tbody tr th:only-of-type {\n",
              "        vertical-align: middle;\n",
              "    }\n",
              "\n",
              "    .dataframe tbody tr th {\n",
              "        vertical-align: top;\n",
              "    }\n",
              "\n",
              "    .dataframe thead th {\n",
              "        text-align: right;\n",
              "    }\n",
              "</style>\n",
              "<table border=\"1\" class=\"dataframe\">\n",
              "  <thead>\n",
              "    <tr style=\"text-align: right;\">\n",
              "      <th></th>\n",
              "      <th>instance_id</th>\n",
              "      <th>track_name</th>\n",
              "      <th>popularity</th>\n",
              "      <th>acousticness</th>\n",
              "      <th>danceability</th>\n",
              "      <th>duration_ms</th>\n",
              "      <th>energy</th>\n",
              "      <th>instrumentalness</th>\n",
              "      <th>key</th>\n",
              "      <th>liveness</th>\n",
              "      <th>loudness</th>\n",
              "      <th>voice_gender</th>\n",
              "      <th>mode</th>\n",
              "      <th>speechiness</th>\n",
              "      <th>tempo</th>\n",
              "      <th>musician_category</th>\n",
              "      <th>valence</th>\n",
              "      <th>music_genre</th>\n",
              "    </tr>\n",
              "  </thead>\n",
              "  <tbody>\n",
              "    <tr>\n",
              "      <th>0</th>\n",
              "      <td>MSC_83537.0</td>\n",
              "      <td>Estrellitas y Duendes</td>\n",
              "      <td>49.178</td>\n",
              "      <td>0.970522</td>\n",
              "      <td>0.580508</td>\n",
              "      <td>214625.776</td>\n",
              "      <td>0.192107</td>\n",
              "      <td>0.000000</td>\n",
              "      <td>Scale E</td>\n",
              "      <td>0.147134</td>\n",
              "      <td>-14.140</td>\n",
              "      <td>NaN</td>\n",
              "      <td>Major</td>\n",
              "      <td>0.046404</td>\n",
              "      <td>143.788</td>\n",
              "      <td>Band</td>\n",
              "      <td>0.598965</td>\n",
              "      <td>Jazz</td>\n",
              "    </tr>\n",
              "    <tr>\n",
              "      <th>1</th>\n",
              "      <td>MSC_22044.0</td>\n",
              "      <td>Al Norte</td>\n",
              "      <td>59.827</td>\n",
              "      <td>1.009380</td>\n",
              "      <td>0.687542</td>\n",
              "      <td>216232.195</td>\n",
              "      <td>0.265942</td>\n",
              "      <td>0.000030</td>\n",
              "      <td>Scale A</td>\n",
              "      <td>0.174655</td>\n",
              "      <td>-13.716</td>\n",
              "      <td>Male</td>\n",
              "      <td>&lt;NA&gt;</td>\n",
              "      <td>0.039949</td>\n",
              "      <td>?</td>\n",
              "      <td>Band</td>\n",
              "      <td>0.357194</td>\n",
              "      <td>Jazz</td>\n",
              "    </tr>\n",
              "    <tr>\n",
              "      <th>2</th>\n",
              "      <td>MSC_62017.0</td>\n",
              "      <td>Yeah! (feat. Lil Jon &amp; Ludacris)</td>\n",
              "      <td>89.023</td>\n",
              "      <td>0.020041</td>\n",
              "      <td>0.967948</td>\n",
              "      <td>273314.723</td>\n",
              "      <td>0.857411</td>\n",
              "      <td>0.000000</td>\n",
              "      <td>Scale D</td>\n",
              "      <td>0.042030</td>\n",
              "      <td>-4.995</td>\n",
              "      <td>Female</td>\n",
              "      <td>Major</td>\n",
              "      <td>0.119917</td>\n",
              "      <td>105.018</td>\n",
              "      <td>Band</td>\n",
              "      <td>0.635525</td>\n",
              "      <td>Rap</td>\n",
              "    </tr>\n",
              "    <tr>\n",
              "      <th>3</th>\n",
              "      <td>MSC_76365.0</td>\n",
              "      <td>Can’t You See</td>\n",
              "      <td>55.762</td>\n",
              "      <td>0.010284</td>\n",
              "      <td>0.616287</td>\n",
              "      <td>189189.605</td>\n",
              "      <td>0.970513</td>\n",
              "      <td>0.000220</td>\n",
              "      <td>Scale D</td>\n",
              "      <td>0.124637</td>\n",
              "      <td>-4.262</td>\n",
              "      <td>Both</td>\n",
              "      <td>Major</td>\n",
              "      <td>0.167493</td>\n",
              "      <td>?</td>\n",
              "      <td>Duet</td>\n",
              "      <td>0.983750</td>\n",
              "      <td>Rock</td>\n",
              "    </tr>\n",
              "    <tr>\n",
              "      <th>4</th>\n",
              "      <td>MSC_71493.0</td>\n",
              "      <td>Sonata III (G Moll), BWV 1029: Adagio</td>\n",
              "      <td>45.095</td>\n",
              "      <td>0.858769</td>\n",
              "      <td>0.280645</td>\n",
              "      <td>410136.987</td>\n",
              "      <td>0.114732</td>\n",
              "      <td>0.002753</td>\n",
              "      <td>Scale F Sharp</td>\n",
              "      <td>0.134782</td>\n",
              "      <td>-26.922</td>\n",
              "      <td>Female</td>\n",
              "      <td>Minor</td>\n",
              "      <td>0.039139</td>\n",
              "      <td>112.183</td>\n",
              "      <td>Band</td>\n",
              "      <td>0.074412</td>\n",
              "      <td>Classical</td>\n",
              "    </tr>\n",
              "  </tbody>\n",
              "</table>\n",
              "</div>\n",
              "    <div class=\"colab-df-buttons\">\n",
              "\n",
              "  <div class=\"colab-df-container\">\n",
              "    <button class=\"colab-df-convert\" onclick=\"convertToInteractive('df-8c708c78-04a2-4b67-9a79-c157158e8fb8')\"\n",
              "            title=\"Convert this dataframe to an interactive table.\"\n",
              "            style=\"display:none;\">\n",
              "\n",
              "  <svg xmlns=\"http://www.w3.org/2000/svg\" height=\"24px\" viewBox=\"0 -960 960 960\">\n",
              "    <path d=\"M120-120v-720h720v720H120Zm60-500h600v-160H180v160Zm220 220h160v-160H400v160Zm0 220h160v-160H400v160ZM180-400h160v-160H180v160Zm440 0h160v-160H620v160ZM180-180h160v-160H180v160Zm440 0h160v-160H620v160Z\"/>\n",
              "  </svg>\n",
              "    </button>\n",
              "\n",
              "  <style>\n",
              "    .colab-df-container {\n",
              "      display:flex;\n",
              "      gap: 12px;\n",
              "    }\n",
              "\n",
              "    .colab-df-convert {\n",
              "      background-color: #E8F0FE;\n",
              "      border: none;\n",
              "      border-radius: 50%;\n",
              "      cursor: pointer;\n",
              "      display: none;\n",
              "      fill: #1967D2;\n",
              "      height: 32px;\n",
              "      padding: 0 0 0 0;\n",
              "      width: 32px;\n",
              "    }\n",
              "\n",
              "    .colab-df-convert:hover {\n",
              "      background-color: #E2EBFA;\n",
              "      box-shadow: 0px 1px 2px rgba(60, 64, 67, 0.3), 0px 1px 3px 1px rgba(60, 64, 67, 0.15);\n",
              "      fill: #174EA6;\n",
              "    }\n",
              "\n",
              "    .colab-df-buttons div {\n",
              "      margin-bottom: 4px;\n",
              "    }\n",
              "\n",
              "    [theme=dark] .colab-df-convert {\n",
              "      background-color: #3B4455;\n",
              "      fill: #D2E3FC;\n",
              "    }\n",
              "\n",
              "    [theme=dark] .colab-df-convert:hover {\n",
              "      background-color: #434B5C;\n",
              "      box-shadow: 0px 1px 3px 1px rgba(0, 0, 0, 0.15);\n",
              "      filter: drop-shadow(0px 1px 2px rgba(0, 0, 0, 0.3));\n",
              "      fill: #FFFFFF;\n",
              "    }\n",
              "  </style>\n",
              "\n",
              "    <script>\n",
              "      const buttonEl =\n",
              "        document.querySelector('#df-8c708c78-04a2-4b67-9a79-c157158e8fb8 button.colab-df-convert');\n",
              "      buttonEl.style.display =\n",
              "        google.colab.kernel.accessAllowed ? 'block' : 'none';\n",
              "\n",
              "      async function convertToInteractive(key) {\n",
              "        const element = document.querySelector('#df-8c708c78-04a2-4b67-9a79-c157158e8fb8');\n",
              "        const dataTable =\n",
              "          await google.colab.kernel.invokeFunction('convertToInteractive',\n",
              "                                                    [key], {});\n",
              "        if (!dataTable) return;\n",
              "\n",
              "        const docLinkHtml = 'Like what you see? Visit the ' +\n",
              "          '<a target=\"_blank\" href=https://colab.research.google.com/notebooks/data_table.ipynb>data table notebook</a>'\n",
              "          + ' to learn more about interactive tables.';\n",
              "        element.innerHTML = '';\n",
              "        dataTable['output_type'] = 'display_data';\n",
              "        await google.colab.output.renderOutput(dataTable, element);\n",
              "        const docLink = document.createElement('div');\n",
              "        docLink.innerHTML = docLinkHtml;\n",
              "        element.appendChild(docLink);\n",
              "      }\n",
              "    </script>\n",
              "  </div>\n",
              "\n",
              "\n",
              "<div id=\"df-1c123b15-f17e-449d-a397-b574e9be834c\">\n",
              "  <button class=\"colab-df-quickchart\" onclick=\"quickchart('df-1c123b15-f17e-449d-a397-b574e9be834c')\"\n",
              "            title=\"Suggest charts.\"\n",
              "            style=\"display:none;\">\n",
              "\n",
              "<svg xmlns=\"http://www.w3.org/2000/svg\" height=\"24px\"viewBox=\"0 0 24 24\"\n",
              "     width=\"24px\">\n",
              "    <g>\n",
              "        <path d=\"M19 3H5c-1.1 0-2 .9-2 2v14c0 1.1.9 2 2 2h14c1.1 0 2-.9 2-2V5c0-1.1-.9-2-2-2zM9 17H7v-7h2v7zm4 0h-2V7h2v10zm4 0h-2v-4h2v4z\"/>\n",
              "    </g>\n",
              "</svg>\n",
              "  </button>\n",
              "\n",
              "<style>\n",
              "  .colab-df-quickchart {\n",
              "      --bg-color: #E8F0FE;\n",
              "      --fill-color: #1967D2;\n",
              "      --hover-bg-color: #E2EBFA;\n",
              "      --hover-fill-color: #174EA6;\n",
              "      --disabled-fill-color: #AAA;\n",
              "      --disabled-bg-color: #DDD;\n",
              "  }\n",
              "\n",
              "  [theme=dark] .colab-df-quickchart {\n",
              "      --bg-color: #3B4455;\n",
              "      --fill-color: #D2E3FC;\n",
              "      --hover-bg-color: #434B5C;\n",
              "      --hover-fill-color: #FFFFFF;\n",
              "      --disabled-bg-color: #3B4455;\n",
              "      --disabled-fill-color: #666;\n",
              "  }\n",
              "\n",
              "  .colab-df-quickchart {\n",
              "    background-color: var(--bg-color);\n",
              "    border: none;\n",
              "    border-radius: 50%;\n",
              "    cursor: pointer;\n",
              "    display: none;\n",
              "    fill: var(--fill-color);\n",
              "    height: 32px;\n",
              "    padding: 0;\n",
              "    width: 32px;\n",
              "  }\n",
              "\n",
              "  .colab-df-quickchart:hover {\n",
              "    background-color: var(--hover-bg-color);\n",
              "    box-shadow: 0 1px 2px rgba(60, 64, 67, 0.3), 0 1px 3px 1px rgba(60, 64, 67, 0.15);\n",
              "    fill: var(--button-hover-fill-color);\n",
              "  }\n",
              "\n",
              "  .colab-df-quickchart-complete:disabled,\n",
              "  .colab-df-quickchart-complete:disabled:hover {\n",
              "    background-color: var(--disabled-bg-color);\n",
              "    fill: var(--disabled-fill-color);\n",
              "    box-shadow: none;\n",
              "  }\n",
              "\n",
              "  .colab-df-spinner {\n",
              "    border: 2px solid var(--fill-color);\n",
              "    border-color: transparent;\n",
              "    border-bottom-color: var(--fill-color);\n",
              "    animation:\n",
              "      spin 1s steps(1) infinite;\n",
              "  }\n",
              "\n",
              "  @keyframes spin {\n",
              "    0% {\n",
              "      border-color: transparent;\n",
              "      border-bottom-color: var(--fill-color);\n",
              "      border-left-color: var(--fill-color);\n",
              "    }\n",
              "    20% {\n",
              "      border-color: transparent;\n",
              "      border-left-color: var(--fill-color);\n",
              "      border-top-color: var(--fill-color);\n",
              "    }\n",
              "    30% {\n",
              "      border-color: transparent;\n",
              "      border-left-color: var(--fill-color);\n",
              "      border-top-color: var(--fill-color);\n",
              "      border-right-color: var(--fill-color);\n",
              "    }\n",
              "    40% {\n",
              "      border-color: transparent;\n",
              "      border-right-color: var(--fill-color);\n",
              "      border-top-color: var(--fill-color);\n",
              "    }\n",
              "    60% {\n",
              "      border-color: transparent;\n",
              "      border-right-color: var(--fill-color);\n",
              "    }\n",
              "    80% {\n",
              "      border-color: transparent;\n",
              "      border-right-color: var(--fill-color);\n",
              "      border-bottom-color: var(--fill-color);\n",
              "    }\n",
              "    90% {\n",
              "      border-color: transparent;\n",
              "      border-bottom-color: var(--fill-color);\n",
              "    }\n",
              "  }\n",
              "</style>\n",
              "\n",
              "  <script>\n",
              "    async function quickchart(key) {\n",
              "      const quickchartButtonEl =\n",
              "        document.querySelector('#' + key + ' button');\n",
              "      quickchartButtonEl.disabled = true;  // To prevent multiple clicks.\n",
              "      quickchartButtonEl.classList.add('colab-df-spinner');\n",
              "      try {\n",
              "        const charts = await google.colab.kernel.invokeFunction(\n",
              "            'suggestCharts', [key], {});\n",
              "      } catch (error) {\n",
              "        console.error('Error during call to suggestCharts:', error);\n",
              "      }\n",
              "      quickchartButtonEl.classList.remove('colab-df-spinner');\n",
              "      quickchartButtonEl.classList.add('colab-df-quickchart-complete');\n",
              "    }\n",
              "    (() => {\n",
              "      let quickchartButtonEl =\n",
              "        document.querySelector('#df-1c123b15-f17e-449d-a397-b574e9be834c button');\n",
              "      quickchartButtonEl.style.display =\n",
              "        google.colab.kernel.accessAllowed ? 'block' : 'none';\n",
              "    })();\n",
              "  </script>\n",
              "</div>\n",
              "    </div>\n",
              "  </div>\n"
            ]
          },
          "metadata": {},
          "execution_count": 75
        }
      ],
      "source": [
        "data.head()"
      ]
    },
    {
      "cell_type": "markdown",
      "metadata": {
        "id": "HFIwvh1Aj2Hi"
      },
      "source": [
        "*still there are columns with ?*"
      ]
    },
    {
      "cell_type": "code",
      "execution_count": 76,
      "metadata": {
        "colab": {
          "base_uri": "https://localhost:8080/"
        },
        "id": "4fkdm72dleIN",
        "outputId": "56a9a73d-7e81-439f-fa85-ecdddf33c026"
      },
      "outputs": [
        {
          "output_type": "execute_result",
          "data": {
            "text/plain": [
              "Index(['tempo'], dtype='object')"
            ]
          },
          "metadata": {},
          "execution_count": 76
        }
      ],
      "source": [
        "data.columns[data.isin(['?']).any()]"
      ]
    },
    {
      "cell_type": "markdown",
      "metadata": {
        "id": "wNJJrsztohNE"
      },
      "source": [
        "*all ? replaced*"
      ]
    },
    {
      "cell_type": "code",
      "execution_count": 104,
      "metadata": {
        "colab": {
          "base_uri": "https://localhost:8080/"
        },
        "id": "JZ28f60HhhEN",
        "outputId": "3e1c214d-e5b0-402d-d628-b7ce646d5e7c"
      },
      "outputs": [
        {
          "output_type": "execute_result",
          "data": {
            "text/plain": [
              "dtype('float64')"
            ]
          },
          "metadata": {},
          "execution_count": 104
        }
      ],
      "source": [
        "#change the dtype of \"tempo\" as float\n",
        "\n",
        "data['tempo'] = data['tempo'].astype('Float64')\n",
        "data['tempo'] = data['tempo'].astype('float64')\n",
        "data['tempo'].dtype"
      ]
    },
    {
      "cell_type": "markdown",
      "metadata": {
        "id": "5C-tucKmovla"
      },
      "source": [
        "*data type of tempo changed to float*"
      ]
    },
    {
      "cell_type": "code",
      "execution_count": 105,
      "metadata": {
        "id": "4YFDS9OCmJ7Q"
      },
      "outputs": [],
      "source": [
        "#replace the object items in coloumn tempo with \"NaN\"\n",
        "\n",
        "data['tempo'] = data['tempo'].replace('?', pd.NA)"
      ]
    },
    {
      "cell_type": "code",
      "execution_count": 78,
      "metadata": {
        "colab": {
          "base_uri": "https://localhost:8080/"
        },
        "id": "tjAhhgywofw3",
        "outputId": "25502434-0147-4b9f-c0c1-987dae372486"
      },
      "outputs": [
        {
          "output_type": "execute_result",
          "data": {
            "text/plain": [
              "Index([], dtype='object')"
            ]
          },
          "metadata": {},
          "execution_count": 78
        }
      ],
      "source": [
        "data.columns[data.isin(['?']).any()]"
      ]
    },
    {
      "cell_type": "code",
      "execution_count": 80,
      "metadata": {
        "colab": {
          "base_uri": "https://localhost:8080/"
        },
        "id": "CETi75TWouhK",
        "outputId": "1ee80671-feff-4f1e-a3df-6553295919db"
      },
      "outputs": [
        {
          "output_type": "execute_result",
          "data": {
            "text/plain": [
              "instance_id             0\n",
              "track_name              0\n",
              "popularity            642\n",
              "acousticness            0\n",
              "danceability          556\n",
              "duration_ms            94\n",
              "energy                 94\n",
              "instrumentalness       95\n",
              "key                     0\n",
              "liveness                0\n",
              "loudness               36\n",
              "voice_gender          765\n",
              "mode                 1114\n",
              "speechiness            26\n",
              "tempo                1476\n",
              "musician_category    1360\n",
              "valence               677\n",
              "music_genre             0\n",
              "dtype: int64"
            ]
          },
          "metadata": {},
          "execution_count": 80
        }
      ],
      "source": [
        "data.isnull().sum()"
      ]
    },
    {
      "cell_type": "markdown",
      "metadata": {
        "id": "hoLbmuUnpTaL"
      },
      "source": [
        "*now temp also contains missing values*"
      ]
    },
    {
      "cell_type": "code",
      "execution_count": 81,
      "metadata": {
        "colab": {
          "base_uri": "https://localhost:8080/"
        },
        "id": "uqU7joZgpJCj",
        "outputId": "f356e1c5-976b-4d11-f07e-12f0fa17e48e"
      },
      "outputs": [
        {
          "output_type": "stream",
          "name": "stdout",
          "text": [
            "popularity 0.041  % missing values\n",
            "danceability 0.035  % missing values\n",
            "duration_ms 0.006  % missing values\n",
            "energy 0.006  % missing values\n",
            "instrumentalness 0.006  % missing values\n",
            "loudness 0.002  % missing values\n",
            "voice_gender 0.049  % missing values\n",
            "mode 0.071  % missing values\n",
            "speechiness 0.002  % missing values\n",
            "tempo 0.094  % missing values\n",
            "musician_category 0.087  % missing values\n",
            "valence 0.043  % missing values\n"
          ]
        }
      ],
      "source": [
        "#Checking the percentage of null values in each feature\n",
        "#Step 1 - Creating a list of features with null values\n",
        "\n",
        "features_with_na = [features for features in data.columns if data[features].isnull().sum()>=1]\n",
        "\n",
        "#Step2 -Print the feature name and percentage of missing values\n",
        "\n",
        "for feature in features_with_na:\n",
        "    print(feature,np.round(data[feature].isnull().mean(),3), ' % missing values') # Round to 3 Desimal points"
      ]
    },
    {
      "cell_type": "markdown",
      "metadata": {
        "id": "hUW1dKjKpo-0"
      },
      "source": [
        "*since we have large quantity of observations the percentage of missing values are less, hence needto be handled and cant be dropped*"
      ]
    },
    {
      "cell_type": "code",
      "execution_count": 82,
      "metadata": {
        "colab": {
          "base_uri": "https://localhost:8080/"
        },
        "id": "GlrjQxqRpYl5",
        "outputId": "9da200d7-a028-4b1f-e0fd-af8b74296c6c"
      },
      "outputs": [
        {
          "output_type": "execute_result",
          "data": {
            "text/plain": [
              "12"
            ]
          },
          "metadata": {},
          "execution_count": 82
        }
      ],
      "source": [
        "len(features_with_na)"
      ]
    },
    {
      "cell_type": "code",
      "execution_count": 83,
      "metadata": {
        "colab": {
          "base_uri": "https://localhost:8080/"
        },
        "id": "rbr89A7Apcky",
        "outputId": "37146657-210f-49a1-db92-ad4152c8a355"
      },
      "outputs": [
        {
          "output_type": "execute_result",
          "data": {
            "text/plain": [
              "['popularity',\n",
              " 'danceability',\n",
              " 'duration_ms',\n",
              " 'energy',\n",
              " 'instrumentalness',\n",
              " 'loudness',\n",
              " 'voice_gender',\n",
              " 'mode',\n",
              " 'speechiness',\n",
              " 'tempo',\n",
              " 'musician_category',\n",
              " 'valence']"
            ]
          },
          "metadata": {},
          "execution_count": 83
        }
      ],
      "source": [
        "features_with_na"
      ]
    },
    {
      "cell_type": "markdown",
      "metadata": {
        "id": "co7XZ41pqxmt"
      },
      "source": [
        "**Univariate Analysis**"
      ]
    },
    {
      "cell_type": "markdown",
      "metadata": {
        "id": "UwIaXi5Cq5_Z"
      },
      "source": [
        " For categorical features, we can use frequency tables or bar plots to calculate the number of each category in a particular variable. Probability Density Functions(PDF) can be used to look at the distribution of the numerical variables.\n",
        "\n",
        " Here the target column 'music_genre' is categorical, let us look at its frequency table, percentage distribution, and bar plot."
      ]
    },
    {
      "cell_type": "code",
      "execution_count": 84,
      "metadata": {
        "colab": {
          "base_uri": "https://localhost:8080/"
        },
        "id": "L_qEQYnCqxOU",
        "outputId": "1c51fdb3-608f-416a-8918-4f1109c6e575"
      },
      "outputs": [
        {
          "output_type": "execute_result",
          "data": {
            "text/plain": [
              "Classical     3990\n",
              "Rock          3879\n",
              "Rap           3207\n",
              "Jazz          2850\n",
              "Country        683\n",
              "Electronic     614\n",
              "Hip-Hop        458\n",
              "Name: music_genre, dtype: int64"
            ]
          },
          "metadata": {},
          "execution_count": 84
        }
      ],
      "source": [
        "#The frequency table of a variable will give us the count of each category in that variable.\n",
        "\n",
        "data['music_genre'].value_counts()"
      ]
    },
    {
      "cell_type": "code",
      "execution_count": 85,
      "metadata": {
        "colab": {
          "base_uri": "https://localhost:8080/"
        },
        "id": "ngsgmxRnrfFi",
        "outputId": "ed301e76-1739-41c0-82e0-5629ec7225e5"
      },
      "outputs": [
        {
          "output_type": "execute_result",
          "data": {
            "text/plain": [
              "Classical     0.254448\n",
              "Rock          0.247369\n",
              "Rap           0.204515\n",
              "Jazz          0.181749\n",
              "Country       0.043556\n",
              "Electronic    0.039156\n",
              "Hip-Hop       0.029207\n",
              "Name: music_genre, dtype: float64"
            ]
          },
          "metadata": {},
          "execution_count": 85
        }
      ],
      "source": [
        "# Normalize can be set to True to print proportions instead of number\n",
        "\n",
        "data['music_genre'].value_counts(normalize=True)"
      ]
    },
    {
      "cell_type": "code",
      "execution_count": 86,
      "metadata": {
        "colab": {
          "base_uri": "https://localhost:8080/",
          "height": 501
        },
        "id": "KhQgImoHrpHH",
        "outputId": "ba22fb36-50cc-4608-99ff-81ece9534c9e"
      },
      "outputs": [
        {
          "output_type": "execute_result",
          "data": {
            "text/plain": [
              "<Axes: >"
            ]
          },
          "metadata": {},
          "execution_count": 86
        },
        {
          "output_type": "display_data",
          "data": {
            "text/plain": [
              "<Figure size 640x480 with 1 Axes>"
            ],
            "image/png": "[encoded data removed]"
          },
          "metadata": {}
        }
      ],
      "source": [
        "data['music_genre'].value_counts().plot.bar()"
      ]
    },
    {
      "cell_type": "markdown",
      "metadata": {
        "id": "xMRumysVsZ88"
      },
      "source": [
        "*3990(around 25%) out of 15681 are classical instruments.only 458 (around 2%) are Hip Hop*"
      ]
    },
    {
      "cell_type": "markdown",
      "metadata": {
        "id": "tehpgMbptYnj"
      },
      "source": [
        "*Now, let’s visualize each variable separately.*"
      ]
    },
    {
      "cell_type": "markdown",
      "metadata": {
        "id": "gfPOjFYHtxNU"
      },
      "source": [
        "**2.All the Numerical Variables**"
      ]
    },
    {
      "cell_type": "code",
      "execution_count": 87,
      "metadata": {
        "colab": {
          "base_uri": "https://localhost:8080/",
          "height": 241
        },
        "id": "2GSnMpZ-tzhy",
        "outputId": "f188704f-20f3-4f64-acda-65d68ac4ef97"
      },
      "outputs": [
        {
          "output_type": "stream",
          "name": "stdout",
          "text": [
            "The length of numerical variables:  11 \n",
            "\n"
          ]
        },
        {
          "output_type": "execute_result",
          "data": {
            "text/plain": [
              "   popularity  acousticness  danceability  duration_ms    energy  \\\n",
              "0      49.178      0.970522      0.580508   214625.776  0.192107   \n",
              "1      59.827      1.009380      0.687542   216232.195  0.265942   \n",
              "2      89.023      0.020041      0.967948   273314.723  0.857411   \n",
              "3      55.762      0.010284      0.616287   189189.605  0.970513   \n",
              "4      45.095      0.858769      0.280645   410136.987  0.114732   \n",
              "\n",
              "   instrumentalness  liveness  loudness  speechiness    tempo   valence  \n",
              "0          0.000000  0.147134   -14.140     0.046404  143.788  0.598965  \n",
              "1          0.000030  0.174655   -13.716     0.039949      NaN  0.357194  \n",
              "2          0.000000  0.042030    -4.995     0.119917  105.018  0.635525  \n",
              "3          0.000220  0.124637    -4.262     0.167493      NaN  0.983750  \n",
              "4          0.002753  0.134782   -26.922     0.039139  112.183  0.074412  "
            ],
            "text/html": [
              "\n",
              "  <div id=\"df-10b82257-4f60-4a83-a133-3a90037f3737\" class=\"colab-df-container\">\n",
              "    <div>\n",
              "<style scoped>\n",
              "    .dataframe tbody tr th:only-of-type {\n",
              "        vertical-align: middle;\n",
              "    }\n",
              "\n",
              "    .dataframe tbody tr th {\n",
              "        vertical-align: top;\n",
              "    }\n",
              "\n",
              "    .dataframe thead th {\n",
              "        text-align: right;\n",
              "    }\n",
              "</style>\n",
              "<table border=\"1\" class=\"dataframe\">\n",
              "  <thead>\n",
              "    <tr style=\"text-align: right;\">\n",
              "      <th></th>\n",
              "      <th>popularity</th>\n",
              "      <th>acousticness</th>\n",
              "      <th>danceability</th>\n",
              "      <th>duration_ms</th>\n",
              "      <th>energy</th>\n",
              "      <th>instrumentalness</th>\n",
              "      <th>liveness</th>\n",
              "      <th>loudness</th>\n",
              "      <th>speechiness</th>\n",
              "      <th>tempo</th>\n",
              "      <th>valence</th>\n",
              "    </tr>\n",
              "  </thead>\n",
              "  <tbody>\n",
              "    <tr>\n",
              "      <th>0</th>\n",
              "      <td>49.178</td>\n",
              "      <td>0.970522</td>\n",
              "      <td>0.580508</td>\n",
              "      <td>214625.776</td>\n",
              "      <td>0.192107</td>\n",
              "      <td>0.000000</td>\n",
              "      <td>0.147134</td>\n",
              "      <td>-14.140</td>\n",
              "      <td>0.046404</td>\n",
              "      <td>143.788</td>\n",
              "      <td>0.598965</td>\n",
              "    </tr>\n",
              "    <tr>\n",
              "      <th>1</th>\n",
              "      <td>59.827</td>\n",
              "      <td>1.009380</td>\n",
              "      <td>0.687542</td>\n",
              "      <td>216232.195</td>\n",
              "      <td>0.265942</td>\n",
              "      <td>0.000030</td>\n",
              "      <td>0.174655</td>\n",
              "      <td>-13.716</td>\n",
              "      <td>0.039949</td>\n",
              "      <td>NaN</td>\n",
              "      <td>0.357194</td>\n",
              "    </tr>\n",
              "    <tr>\n",
              "      <th>2</th>\n",
              "      <td>89.023</td>\n",
              "      <td>0.020041</td>\n",
              "      <td>0.967948</td>\n",
              "      <td>273314.723</td>\n",
              "      <td>0.857411</td>\n",
              "      <td>0.000000</td>\n",
              "      <td>0.042030</td>\n",
              "      <td>-4.995</td>\n",
              "      <td>0.119917</td>\n",
              "      <td>105.018</td>\n",
              "      <td>0.635525</td>\n",
              "    </tr>\n",
              "    <tr>\n",
              "      <th>3</th>\n",
              "      <td>55.762</td>\n",
              "      <td>0.010284</td>\n",
              "      <td>0.616287</td>\n",
              "      <td>189189.605</td>\n",
              "      <td>0.970513</td>\n",
              "      <td>0.000220</td>\n",
              "      <td>0.124637</td>\n",
              "      <td>-4.262</td>\n",
              "      <td>0.167493</td>\n",
              "      <td>NaN</td>\n",
              "      <td>0.983750</td>\n",
              "    </tr>\n",
              "    <tr>\n",
              "      <th>4</th>\n",
              "      <td>45.095</td>\n",
              "      <td>0.858769</td>\n",
              "      <td>0.280645</td>\n",
              "      <td>410136.987</td>\n",
              "      <td>0.114732</td>\n",
              "      <td>0.002753</td>\n",
              "      <td>0.134782</td>\n",
              "      <td>-26.922</td>\n",
              "      <td>0.039139</td>\n",
              "      <td>112.183</td>\n",
              "      <td>0.074412</td>\n",
              "    </tr>\n",
              "  </tbody>\n",
              "</table>\n",
              "</div>\n",
              "    <div class=\"colab-df-buttons\">\n",
              "\n",
              "  <div class=\"colab-df-container\">\n",
              "    <button class=\"colab-df-convert\" onclick=\"convertToInteractive('df-10b82257-4f60-4a83-a133-3a90037f3737')\"\n",
              "            title=\"Convert this dataframe to an interactive table.\"\n",
              "            style=\"display:none;\">\n",
              "\n",
              "  <svg xmlns=\"http://www.w3.org/2000/svg\" height=\"24px\" viewBox=\"0 -960 960 960\">\n",
              "    <path d=\"M120-120v-720h720v720H120Zm60-500h600v-160H180v160Zm220 220h160v-160H400v160Zm0 220h160v-160H400v160ZM180-400h160v-160H180v160Zm440 0h160v-160H620v160ZM180-180h160v-160H180v160Zm440 0h160v-160H620v160Z\"/>\n",
              "  </svg>\n",
              "    </button>\n",
              "\n",
              "  <style>\n",
              "    .colab-df-container {\n",
              "      display:flex;\n",
              "      gap: 12px;\n",
              "    }\n",
              "\n",
              "    .colab-df-convert {\n",
              "      background-color: #E8F0FE;\n",
              "      border: none;\n",
              "      border-radius: 50%;\n",
              "      cursor: pointer;\n",
              "      display: none;\n",
              "      fill: #1967D2;\n",
              "      height: 32px;\n",
              "      padding: 0 0 0 0;\n",
              "      width: 32px;\n",
              "    }\n",
              "\n",
              "    .colab-df-convert:hover {\n",
              "      background-color: #E2EBFA;\n",
              "      box-shadow: 0px 1px 2px rgba(60, 64, 67, 0.3), 0px 1px 3px 1px rgba(60, 64, 67, 0.15);\n",
              "      fill: #174EA6;\n",
              "    }\n",
              "\n",
              "    .colab-df-buttons div {\n",
              "      margin-bottom: 4px;\n",
              "    }\n",
              "\n",
              "    [theme=dark] .colab-df-convert {\n",
              "      background-color: #3B4455;\n",
              "      fill: #D2E3FC;\n",
              "    }\n",
              "\n",
              "    [theme=dark] .colab-df-convert:hover {\n",
              "      background-color: #434B5C;\n",
              "      box-shadow: 0px 1px 3px 1px rgba(0, 0, 0, 0.15);\n",
              "      filter: drop-shadow(0px 1px 2px rgba(0, 0, 0, 0.3));\n",
              "      fill: #FFFFFF;\n",
              "    }\n",
              "  </style>\n",
              "\n",
              "    <script>\n",
              "      const buttonEl =\n",
              "        document.querySelector('#df-10b82257-4f60-4a83-a133-3a90037f3737 button.colab-df-convert');\n",
              "      buttonEl.style.display =\n",
              "        google.colab.kernel.accessAllowed ? 'block' : 'none';\n",
              "\n",
              "      async function convertToInteractive(key) {\n",
              "        const element = document.querySelector('#df-10b82257-4f60-4a83-a133-3a90037f3737');\n",
              "        const dataTable =\n",
              "          await google.colab.kernel.invokeFunction('convertToInteractive',\n",
              "                                                    [key], {});\n",
              "        if (!dataTable) return;\n",
              "\n",
              "        const docLinkHtml = 'Like what you see? Visit the ' +\n",
              "          '<a target=\"_blank\" href=https://colab.research.google.com/notebooks/data_table.ipynb>data table notebook</a>'\n",
              "          + ' to learn more about interactive tables.';\n",
              "        element.innerHTML = '';\n",
              "        dataTable['output_type'] = 'display_data';\n",
              "        await google.colab.output.renderOutput(dataTable, element);\n",
              "        const docLink = document.createElement('div');\n",
              "        docLink.innerHTML = docLinkHtml;\n",
              "        element.appendChild(docLink);\n",
              "      }\n",
              "    </script>\n",
              "  </div>\n",
              "\n",
              "\n",
              "<div id=\"df-f8565d4e-fe21-4faf-8450-c94c82bb016e\">\n",
              "  <button class=\"colab-df-quickchart\" onclick=\"quickchart('df-f8565d4e-fe21-4faf-8450-c94c82bb016e')\"\n",
              "            title=\"Suggest charts.\"\n",
              "            style=\"display:none;\">\n",
              "\n",
              "<svg xmlns=\"http://www.w3.org/2000/svg\" height=\"24px\"viewBox=\"0 0 24 24\"\n",
              "     width=\"24px\">\n",
              "    <g>\n",
              "        <path d=\"M19 3H5c-1.1 0-2 .9-2 2v14c0 1.1.9 2 2 2h14c1.1 0 2-.9 2-2V5c0-1.1-.9-2-2-2zM9 17H7v-7h2v7zm4 0h-2V7h2v10zm4 0h-2v-4h2v4z\"/>\n",
              "    </g>\n",
              "</svg>\n",
              "  </button>\n",
              "\n",
              "<style>\n",
              "  .colab-df-quickchart {\n",
              "      --bg-color: #E8F0FE;\n",
              "      --fill-color: #1967D2;\n",
              "      --hover-bg-color: #E2EBFA;\n",
              "      --hover-fill-color: #174EA6;\n",
              "      --disabled-fill-color: #AAA;\n",
              "      --disabled-bg-color: #DDD;\n",
              "  }\n",
              "\n",
              "  [theme=dark] .colab-df-quickchart {\n",
              "      --bg-color: #3B4455;\n",
              "      --fill-color: #D2E3FC;\n",
              "      --hover-bg-color: #434B5C;\n",
              "      --hover-fill-color: #FFFFFF;\n",
              "      --disabled-bg-color: #3B4455;\n",
              "      --disabled-fill-color: #666;\n",
              "  }\n",
              "\n",
              "  .colab-df-quickchart {\n",
              "    background-color: var(--bg-color);\n",
              "    border: none;\n",
              "    border-radius: 50%;\n",
              "    cursor: pointer;\n",
              "    display: none;\n",
              "    fill: var(--fill-color);\n",
              "    height: 32px;\n",
              "    padding: 0;\n",
              "    width: 32px;\n",
              "  }\n",
              "\n",
              "  .colab-df-quickchart:hover {\n",
              "    background-color: var(--hover-bg-color);\n",
              "    box-shadow: 0 1px 2px rgba(60, 64, 67, 0.3), 0 1px 3px 1px rgba(60, 64, 67, 0.15);\n",
              "    fill: var(--button-hover-fill-color);\n",
              "  }\n",
              "\n",
              "  .colab-df-quickchart-complete:disabled,\n",
              "  .colab-df-quickchart-complete:disabled:hover {\n",
              "    background-color: var(--disabled-bg-color);\n",
              "    fill: var(--disabled-fill-color);\n",
              "    box-shadow: none;\n",
              "  }\n",
              "\n",
              "  .colab-df-spinner {\n",
              "    border: 2px solid var(--fill-color);\n",
              "    border-color: transparent;\n",
              "    border-bottom-color: var(--fill-color);\n",
              "    animation:\n",
              "      spin 1s steps(1) infinite;\n",
              "  }\n",
              "\n",
              "  @keyframes spin {\n",
              "    0% {\n",
              "      border-color: transparent;\n",
              "      border-bottom-color: var(--fill-color);\n",
              "      border-left-color: var(--fill-color);\n",
              "    }\n",
              "    20% {\n",
              "      border-color: transparent;\n",
              "      border-left-color: var(--fill-color);\n",
              "      border-top-color: var(--fill-color);\n",
              "    }\n",
              "    30% {\n",
              "      border-color: transparent;\n",
              "      border-left-color: var(--fill-color);\n",
              "      border-top-color: var(--fill-color);\n",
              "      border-right-color: var(--fill-color);\n",
              "    }\n",
              "    40% {\n",
              "      border-color: transparent;\n",
              "      border-right-color: var(--fill-color);\n",
              "      border-top-color: var(--fill-color);\n",
              "    }\n",
              "    60% {\n",
              "      border-color: transparent;\n",
              "      border-right-color: var(--fill-color);\n",
              "    }\n",
              "    80% {\n",
              "      border-color: transparent;\n",
              "      border-right-color: var(--fill-color);\n",
              "      border-bottom-color: var(--fill-color);\n",
              "    }\n",
              "    90% {\n",
              "      border-color: transparent;\n",
              "      border-bottom-color: var(--fill-color);\n",
              "    }\n",
              "  }\n",
              "</style>\n",
              "\n",
              "  <script>\n",
              "    async function quickchart(key) {\n",
              "      const quickchartButtonEl =\n",
              "        document.querySelector('#' + key + ' button');\n",
              "      quickchartButtonEl.disabled = true;  // To prevent multiple clicks.\n",
              "      quickchartButtonEl.classList.add('colab-df-spinner');\n",
              "      try {\n",
              "        const charts = await google.colab.kernel.invokeFunction(\n",
              "            'suggestCharts', [key], {});\n",
              "      } catch (error) {\n",
              "        console.error('Error during call to suggestCharts:', error);\n",
              "      }\n",
              "      quickchartButtonEl.classList.remove('colab-df-spinner');\n",
              "      quickchartButtonEl.classList.add('colab-df-quickchart-complete');\n",
              "    }\n",
              "    (() => {\n",
              "      let quickchartButtonEl =\n",
              "        document.querySelector('#df-f8565d4e-fe21-4faf-8450-c94c82bb016e button');\n",
              "      quickchartButtonEl.style.display =\n",
              "        google.colab.kernel.accessAllowed ? 'block' : 'none';\n",
              "    })();\n",
              "  </script>\n",
              "</div>\n",
              "    </div>\n",
              "  </div>\n"
            ]
          },
          "metadata": {},
          "execution_count": 87
        }
      ],
      "source": [
        "# Creating a list of numerical values\n",
        "\n",
        "numerical_features = [feature for feature in data.columns if data[feature].dtypes != 'O']\n",
        "\n",
        "print(\"The length of numerical variables: \" ,len(numerical_features),'\\n')\n",
        "\n",
        "#display the numerical variables\n",
        "\n",
        "data[numerical_features].head()"
      ]
    },
    {
      "cell_type": "markdown",
      "metadata": {
        "id": "AVDK_Vxrt-yN"
      },
      "source": [
        "**3.Distribution of Numerical Variables**"
      ]
    },
    {
      "cell_type": "markdown",
      "metadata": {
        "id": "AKppFPqDuCzT"
      },
      "source": [
        "**3.1. Discrete Variables**"
      ]
    },
    {
      "cell_type": "code",
      "execution_count": 88,
      "metadata": {
        "colab": {
          "base_uri": "https://localhost:8080/"
        },
        "id": "IKHooSv2uEoK",
        "outputId": "867e2504-9d76-4fb2-b0f6-f31de44978d4"
      },
      "outputs": [
        {
          "output_type": "stream",
          "name": "stdout",
          "text": [
            "Discrete Variables Count: 0\n"
          ]
        }
      ],
      "source": [
        "#Numerical Variables are usually of two types - Continuous and discrete\n",
        "\n",
        "discrete_feature = [feature for feature in numerical_features if len(data[feature].unique())<25]  # Simply consider values below 25 as discrete\n",
        "\n",
        "print(\"Discrete Variables Count: {}\".format(len(discrete_feature)))"
      ]
    },
    {
      "cell_type": "markdown",
      "metadata": {
        "id": "1R8OAkvauO8u"
      },
      "source": [
        "*hence all 11 are continuous*"
      ]
    },
    {
      "cell_type": "markdown",
      "metadata": {
        "id": "_XomzgFnuhyJ"
      },
      "source": [
        "**UNIVARIATE ANALYSIS**\n",
        "\n",
        "**Histogram**"
      ]
    },
    {
      "cell_type": "code",
      "execution_count": 89,
      "metadata": {
        "colab": {
          "base_uri": "https://localhost:8080/",
          "height": 1000
        },
        "id": "SLyn21D3uRNE",
        "outputId": "b67752c6-b3f3-4603-bdb4-22ead1dc2f37"
      },
      "outputs": [
        {
          "output_type": "display_data",
          "data": {
            "text/plain": [
              "<Figure size 640x480 with 1 Axes>"
            ],
            "image/png": "[encoded data removed]"
          },
          "metadata": {}
        },
        {
          "output_type": "display_data",
          "data": {
            "text/plain": [
              "<Figure size 640x480 with 1 Axes>"
            ],
            "image/png": "[encoded data removed]"
          },
          "metadata": {}
        },
        {
          "output_type": "display_data",
          "data": {
            "text/plain": [
              "<Figure size 640x480 with 1 Axes>"
            ],
            "image/png": "[encoded data removed]"
          },
          "metadata": {}
        },
        {
          "output_type": "display_data",
          "data": {
            "text/plain": [
              "<Figure size 640x480 with 1 Axes>"
            ],
            "image/png": "[encoded data removed]"
          },
          "metadata": {}
        },
        {
          "output_type": "display_data",
          "data": {
            "text/plain": [
              "<Figure size 640x480 with 1 Axes>"
            ],
            "image/png": "[encoded data removed]"
          },
          "metadata": {}
        },
        {
          "output_type": "display_data",
          "data": {
            "text/plain": [
              "<Figure size 640x480 with 1 Axes>"
            ],
            "image/png": "[encoded data removed]"
          },
          "metadata": {}
        },
        {
          "output_type": "display_data",
          "data": {
            "text/plain": [
              "<Figure size 640x480 with 1 Axes>"
            ],
            "image/png": "[encoded data removed]"
          },
          "metadata": {}
        },
        {
          "output_type": "display_data",
          "data": {
            "text/plain": [
              "<Figure size 640x480 with 1 Axes>"
            ],
            "image/png": "[encoded data removed]"
          },
          "metadata": {}
        },
        {
          "output_type": "display_data",
          "data": {
            "text/plain": [
              "<Figure size 640x480 with 1 Axes>"
            ],
            "image/png": "[encoded data removed]"
          },
          "metadata": {}
        },
        {
          "output_type": "display_data",
          "data": {
            "text/plain": [
              "<Figure size 640x480 with 1 Axes>"
            ],
            "image/png": "[encoded data removed]"
          },
          "metadata": {}
        },
        {
          "output_type": "display_data",
          "data": {
            "text/plain": [
              "<Figure size 640x480 with 1 Axes>"
            ],
            "image/png": "[encoded data removed]"
          },
          "metadata": {}
        }
      ],
      "source": [
        "#Analyzing the Distribution of Continuous variables\n",
        "\n",
        "for feature in numerical_features:\n",
        "    df = data.copy()\n",
        "    df[feature].hist(bins=25)\n",
        "    plt.xlabel(feature)\n",
        "    plt.ylabel('Count')\n",
        "    plt.title(feature)\n",
        "    plt.show()"
      ]
    },
    {
      "cell_type": "markdown",
      "metadata": {
        "id": "3mmIjaQ6vUMk"
      },
      "source": [
        "*onlytempo dencability and popularity resemble somewhat normal distribution, which means the data is symmetrically distributed around the mean, and the majority of the data points cluster near the center of the distribution. Others are skewed in nature.*"
      ]
    },
    {
      "cell_type": "markdown",
      "metadata": {
        "id": "IypIc8N7wKE4"
      },
      "source": [
        "**4.Outliers**"
      ]
    },
    {
      "cell_type": "code",
      "execution_count": 90,
      "metadata": {
        "colab": {
          "base_uri": "https://localhost:8080/",
          "height": 1000
        },
        "id": "jRVDzqTBwRgT",
        "outputId": "67cb6c2b-1265-4478-a201-a450ed78c19d"
      },
      "outputs": [
        {
          "output_type": "display_data",
          "data": {
            "text/plain": [
              "<Figure size 640x480 with 1 Axes>"
            ],
            "image/png": "[encoded data removed]"
          },
          "metadata": {}
        },
        {
          "output_type": "display_data",
          "data": {
            "text/plain": [
              "<Figure size 640x480 with 1 Axes>"
            ],
            "image/png": "[encoded data removed]"
          },
          "metadata": {}
        },
        {
          "output_type": "display_data",
          "data": {
            "text/plain": [
              "<Figure size 640x480 with 1 Axes>"
            ],
            "image/png": "[encoded data removed]"
          },
          "metadata": {}
        },
        {
          "output_type": "display_data",
          "data": {
            "text/plain": [
              "<Figure size 640x480 with 1 Axes>"
            ],
            "image/png": "[encoded data removed]"
          },
          "metadata": {}
        },
        {
          "output_type": "display_data",
          "data": {
            "text/plain": [
              "<Figure size 640x480 with 1 Axes>"
            ],
            "image/png": "[encoded data removed]"
          },
          "metadata": {}
        },
        {
          "output_type": "display_data",
          "data": {
            "text/plain": [
              "<Figure size 640x480 with 1 Axes>"
            ],
            "image/png": "[encoded data removed]"
          },
          "metadata": {}
        },
        {
          "output_type": "display_data",
          "data": {
            "text/plain": [
              "<Figure size 640x480 with 1 Axes>"
            ],
            "image/png": "[encoded data removed]"
          },
          "metadata": {}
        },
        {
          "output_type": "display_data",
          "data": {
            "text/plain": [
              "<Figure size 640x480 with 1 Axes>"
            ],
            "image/png": "[encoded data removed]"
          },
          "metadata": {}
        },
        {
          "output_type": "display_data",
          "data": {
            "text/plain": [
              "<Figure size 640x480 with 1 Axes>"
            ],
            "image/png": "[encoded data removed]"
          },
          "metadata": {}
        },
        {
          "output_type": "display_data",
          "data": {
            "text/plain": [
              "<Figure size 640x480 with 1 Axes>"
            ],
            "image/png": "[encoded data removed]"
          },
          "metadata": {}
        },
        {
          "output_type": "display_data",
          "data": {
            "text/plain": [
              "<Figure size 640x480 with 1 Axes>"
            ],
            "image/png": "[encoded data removed]"
          },
          "metadata": {}
        }
      ],
      "source": [
        "#Boxplot of the Continous Features\n",
        "\n",
        "for feature in numerical_features:\n",
        "    df = data.copy()\n",
        "    df[feature] = np.log(df[feature])\n",
        "    df.boxplot(column = feature)\n",
        "    plt.ylabel(feature)\n",
        "    plt.title(feature)\n",
        "    plt.show()"
      ]
    },
    {
      "cell_type": "markdown",
      "metadata": {
        "id": "5rm0Ju1yxJTS"
      },
      "source": [
        "*Apply a logarithm transformation to the features. Depending on the data and the distribution of values, A boxplot is a useful way to display the distribution of data through its quartiles and potential outliers. By applying the logarithm transformation, you can better understand the distribution of skewed data and potential patterns or outliers.*"
      ]
    },
    {
      "cell_type": "markdown",
      "metadata": {
        "id": "r6pK44FxxYP_"
      },
      "source": [
        "*All of the variables in the boxplot clearly exhibit outliers, except for the column 'loudness'.*"
      ]
    },
    {
      "cell_type": "markdown",
      "metadata": {
        "id": "U2nlvo4Xxp9Y"
      },
      "source": [
        "**5.Categorical Variables**"
      ]
    },
    {
      "cell_type": "code",
      "execution_count": 91,
      "metadata": {
        "colab": {
          "base_uri": "https://localhost:8080/"
        },
        "id": "irUu7IInxrXY",
        "outputId": "b4bca31f-a934-4332-f3ea-6950f27e9ca6"
      },
      "outputs": [
        {
          "output_type": "execute_result",
          "data": {
            "text/plain": [
              "['instance_id',\n",
              " 'track_name',\n",
              " 'key',\n",
              " 'voice_gender',\n",
              " 'mode',\n",
              " 'musician_category',\n",
              " 'music_genre']"
            ]
          },
          "metadata": {},
          "execution_count": 91
        }
      ],
      "source": [
        "categorical_features = [feature for feature in data.columns if data[feature].dtypes=='O']\n",
        "categorical_features"
      ]
    },
    {
      "cell_type": "code",
      "execution_count": 92,
      "metadata": {
        "colab": {
          "base_uri": "https://localhost:8080/"
        },
        "id": "ezFVxZdLx0hW",
        "outputId": "e08fee19-02fc-44cc-f30e-ad03d3dbbd6a"
      },
      "outputs": [
        {
          "output_type": "stream",
          "name": "stdout",
          "text": [
            "Categorical feature Count 7\n"
          ]
        }
      ],
      "source": [
        "print(\"Categorical feature Count {}\".format(len(categorical_features)))"
      ]
    },
    {
      "cell_type": "code",
      "execution_count": 93,
      "metadata": {
        "colab": {
          "base_uri": "https://localhost:8080/",
          "height": 206
        },
        "id": "fiDNZxzrx75s",
        "outputId": "e263ddad-c9c0-40a1-8ed8-af609f218ea4"
      },
      "outputs": [
        {
          "output_type": "execute_result",
          "data": {
            "text/plain": [
              "   instance_id                             track_name            key  \\\n",
              "0  MSC_83537.0                  Estrellitas y Duendes        Scale E   \n",
              "1  MSC_22044.0                               Al Norte        Scale A   \n",
              "2  MSC_62017.0       Yeah! (feat. Lil Jon & Ludacris)        Scale D   \n",
              "3  MSC_76365.0                          Can’t You See        Scale D   \n",
              "4  MSC_71493.0  Sonata III (G Moll), BWV 1029: Adagio  Scale F Sharp   \n",
              "\n",
              "  voice_gender   mode musician_category music_genre  \n",
              "0          NaN  Major              Band        Jazz  \n",
              "1         Male   <NA>              Band        Jazz  \n",
              "2       Female  Major              Band         Rap  \n",
              "3         Both  Major              Duet        Rock  \n",
              "4       Female  Minor              Band   Classical  "
            ],
            "text/html": [
              "\n",
              "  <div id=\"df-ad1bffe4-5300-40bd-8e20-a1c9906ca683\" class=\"colab-df-container\">\n",
              "    <div>\n",
              "<style scoped>\n",
              "    .dataframe tbody tr th:only-of-type {\n",
              "        vertical-align: middle;\n",
              "    }\n",
              "\n",
              "    .dataframe tbody tr th {\n",
              "        vertical-align: top;\n",
              "    }\n",
              "\n",
              "    .dataframe thead th {\n",
              "        text-align: right;\n",
              "    }\n",
              "</style>\n",
              "<table border=\"1\" class=\"dataframe\">\n",
              "  <thead>\n",
              "    <tr style=\"text-align: right;\">\n",
              "      <th></th>\n",
              "      <th>instance_id</th>\n",
              "      <th>track_name</th>\n",
              "      <th>key</th>\n",
              "      <th>voice_gender</th>\n",
              "      <th>mode</th>\n",
              "      <th>musician_category</th>\n",
              "      <th>music_genre</th>\n",
              "    </tr>\n",
              "  </thead>\n",
              "  <tbody>\n",
              "    <tr>\n",
              "      <th>0</th>\n",
              "      <td>MSC_83537.0</td>\n",
              "      <td>Estrellitas y Duendes</td>\n",
              "      <td>Scale E</td>\n",
              "      <td>NaN</td>\n",
              "      <td>Major</td>\n",
              "      <td>Band</td>\n",
              "      <td>Jazz</td>\n",
              "    </tr>\n",
              "    <tr>\n",
              "      <th>1</th>\n",
              "      <td>MSC_22044.0</td>\n",
              "      <td>Al Norte</td>\n",
              "      <td>Scale A</td>\n",
              "      <td>Male</td>\n",
              "      <td>&lt;NA&gt;</td>\n",
              "      <td>Band</td>\n",
              "      <td>Jazz</td>\n",
              "    </tr>\n",
              "    <tr>\n",
              "      <th>2</th>\n",
              "      <td>MSC_62017.0</td>\n",
              "      <td>Yeah! (feat. Lil Jon &amp; Ludacris)</td>\n",
              "      <td>Scale D</td>\n",
              "      <td>Female</td>\n",
              "      <td>Major</td>\n",
              "      <td>Band</td>\n",
              "      <td>Rap</td>\n",
              "    </tr>\n",
              "    <tr>\n",
              "      <th>3</th>\n",
              "      <td>MSC_76365.0</td>\n",
              "      <td>Can’t You See</td>\n",
              "      <td>Scale D</td>\n",
              "      <td>Both</td>\n",
              "      <td>Major</td>\n",
              "      <td>Duet</td>\n",
              "      <td>Rock</td>\n",
              "    </tr>\n",
              "    <tr>\n",
              "      <th>4</th>\n",
              "      <td>MSC_71493.0</td>\n",
              "      <td>Sonata III (G Moll), BWV 1029: Adagio</td>\n",
              "      <td>Scale F Sharp</td>\n",
              "      <td>Female</td>\n",
              "      <td>Minor</td>\n",
              "      <td>Band</td>\n",
              "      <td>Classical</td>\n",
              "    </tr>\n",
              "  </tbody>\n",
              "</table>\n",
              "</div>\n",
              "    <div class=\"colab-df-buttons\">\n",
              "\n",
              "  <div class=\"colab-df-container\">\n",
              "    <button class=\"colab-df-convert\" onclick=\"convertToInteractive('df-ad1bffe4-5300-40bd-8e20-a1c9906ca683')\"\n",
              "            title=\"Convert this dataframe to an interactive table.\"\n",
              "            style=\"display:none;\">\n",
              "\n",
              "  <svg xmlns=\"http://www.w3.org/2000/svg\" height=\"24px\" viewBox=\"0 -960 960 960\">\n",
              "    <path d=\"M120-120v-720h720v720H120Zm60-500h600v-160H180v160Zm220 220h160v-160H400v160Zm0 220h160v-160H400v160ZM180-400h160v-160H180v160Zm440 0h160v-160H620v160ZM180-180h160v-160H180v160Zm440 0h160v-160H620v160Z\"/>\n",
              "  </svg>\n",
              "    </button>\n",
              "\n",
              "  <style>\n",
              "    .colab-df-container {\n",
              "      display:flex;\n",
              "      gap: 12px;\n",
              "    }\n",
              "\n",
              "    .colab-df-convert {\n",
              "      background-color: #E8F0FE;\n",
              "      border: none;\n",
              "      border-radius: 50%;\n",
              "      cursor: pointer;\n",
              "      display: none;\n",
              "      fill: #1967D2;\n",
              "      height: 32px;\n",
              "      padding: 0 0 0 0;\n",
              "      width: 32px;\n",
              "    }\n",
              "\n",
              "    .colab-df-convert:hover {\n",
              "      background-color: #E2EBFA;\n",
              "      box-shadow: 0px 1px 2px rgba(60, 64, 67, 0.3), 0px 1px 3px 1px rgba(60, 64, 67, 0.15);\n",
              "      fill: #174EA6;\n",
              "    }\n",
              "\n",
              "    .colab-df-buttons div {\n",
              "      margin-bottom: 4px;\n",
              "    }\n",
              "\n",
              "    [theme=dark] .colab-df-convert {\n",
              "      background-color: #3B4455;\n",
              "      fill: #D2E3FC;\n",
              "    }\n",
              "\n",
              "    [theme=dark] .colab-df-convert:hover {\n",
              "      background-color: #434B5C;\n",
              "      box-shadow: 0px 1px 3px 1px rgba(0, 0, 0, 0.15);\n",
              "      filter: drop-shadow(0px 1px 2px rgba(0, 0, 0, 0.3));\n",
              "      fill: #FFFFFF;\n",
              "    }\n",
              "  </style>\n",
              "\n",
              "    <script>\n",
              "      const buttonEl =\n",
              "        document.querySelector('#df-ad1bffe4-5300-40bd-8e20-a1c9906ca683 button.colab-df-convert');\n",
              "      buttonEl.style.display =\n",
              "        google.colab.kernel.accessAllowed ? 'block' : 'none';\n",
              "\n",
              "      async function convertToInteractive(key) {\n",
              "        const element = document.querySelector('#df-ad1bffe4-5300-40bd-8e20-a1c9906ca683');\n",
              "        const dataTable =\n",
              "          await google.colab.kernel.invokeFunction('convertToInteractive',\n",
              "                                                    [key], {});\n",
              "        if (!dataTable) return;\n",
              "\n",
              "        const docLinkHtml = 'Like what you see? Visit the ' +\n",
              "          '<a target=\"_blank\" href=https://colab.research.google.com/notebooks/data_table.ipynb>data table notebook</a>'\n",
              "          + ' to learn more about interactive tables.';\n",
              "        element.innerHTML = '';\n",
              "        dataTable['output_type'] = 'display_data';\n",
              "        await google.colab.output.renderOutput(dataTable, element);\n",
              "        const docLink = document.createElement('div');\n",
              "        docLink.innerHTML = docLinkHtml;\n",
              "        element.appendChild(docLink);\n",
              "      }\n",
              "    </script>\n",
              "  </div>\n",
              "\n",
              "\n",
              "<div id=\"df-6e0ae2a3-d09b-4b7c-9753-1644f24dddeb\">\n",
              "  <button class=\"colab-df-quickchart\" onclick=\"quickchart('df-6e0ae2a3-d09b-4b7c-9753-1644f24dddeb')\"\n",
              "            title=\"Suggest charts.\"\n",
              "            style=\"display:none;\">\n",
              "\n",
              "<svg xmlns=\"http://www.w3.org/2000/svg\" height=\"24px\"viewBox=\"0 0 24 24\"\n",
              "     width=\"24px\">\n",
              "    <g>\n",
              "        <path d=\"M19 3H5c-1.1 0-2 .9-2 2v14c0 1.1.9 2 2 2h14c1.1 0 2-.9 2-2V5c0-1.1-.9-2-2-2zM9 17H7v-7h2v7zm4 0h-2V7h2v10zm4 0h-2v-4h2v4z\"/>\n",
              "    </g>\n",
              "</svg>\n",
              "  </button>\n",
              "\n",
              "<style>\n",
              "  .colab-df-quickchart {\n",
              "      --bg-color: #E8F0FE;\n",
              "      --fill-color: #1967D2;\n",
              "      --hover-bg-color: #E2EBFA;\n",
              "      --hover-fill-color: #174EA6;\n",
              "      --disabled-fill-color: #AAA;\n",
              "      --disabled-bg-color: #DDD;\n",
              "  }\n",
              "\n",
              "  [theme=dark] .colab-df-quickchart {\n",
              "      --bg-color: #3B4455;\n",
              "      --fill-color: #D2E3FC;\n",
              "      --hover-bg-color: #434B5C;\n",
              "      --hover-fill-color: #FFFFFF;\n",
              "      --disabled-bg-color: #3B4455;\n",
              "      --disabled-fill-color: #666;\n",
              "  }\n",
              "\n",
              "  .colab-df-quickchart {\n",
              "    background-color: var(--bg-color);\n",
              "    border: none;\n",
              "    border-radius: 50%;\n",
              "    cursor: pointer;\n",
              "    display: none;\n",
              "    fill: var(--fill-color);\n",
              "    height: 32px;\n",
              "    padding: 0;\n",
              "    width: 32px;\n",
              "  }\n",
              "\n",
              "  .colab-df-quickchart:hover {\n",
              "    background-color: var(--hover-bg-color);\n",
              "    box-shadow: 0 1px 2px rgba(60, 64, 67, 0.3), 0 1px 3px 1px rgba(60, 64, 67, 0.15);\n",
              "    fill: var(--button-hover-fill-color);\n",
              "  }\n",
              "\n",
              "  .colab-df-quickchart-complete:disabled,\n",
              "  .colab-df-quickchart-complete:disabled:hover {\n",
              "    background-color: var(--disabled-bg-color);\n",
              "    fill: var(--disabled-fill-color);\n",
              "    box-shadow: none;\n",
              "  }\n",
              "\n",
              "  .colab-df-spinner {\n",
              "    border: 2px solid var(--fill-color);\n",
              "    border-color: transparent;\n",
              "    border-bottom-color: var(--fill-color);\n",
              "    animation:\n",
              "      spin 1s steps(1) infinite;\n",
              "  }\n",
              "\n",
              "  @keyframes spin {\n",
              "    0% {\n",
              "      border-color: transparent;\n",
              "      border-bottom-color: var(--fill-color);\n",
              "      border-left-color: var(--fill-color);\n",
              "    }\n",
              "    20% {\n",
              "      border-color: transparent;\n",
              "      border-left-color: var(--fill-color);\n",
              "      border-top-color: var(--fill-color);\n",
              "    }\n",
              "    30% {\n",
              "      border-color: transparent;\n",
              "      border-left-color: var(--fill-color);\n",
              "      border-top-color: var(--fill-color);\n",
              "      border-right-color: var(--fill-color);\n",
              "    }\n",
              "    40% {\n",
              "      border-color: transparent;\n",
              "      border-right-color: var(--fill-color);\n",
              "      border-top-color: var(--fill-color);\n",
              "    }\n",
              "    60% {\n",
              "      border-color: transparent;\n",
              "      border-right-color: var(--fill-color);\n",
              "    }\n",
              "    80% {\n",
              "      border-color: transparent;\n",
              "      border-right-color: var(--fill-color);\n",
              "      border-bottom-color: var(--fill-color);\n",
              "    }\n",
              "    90% {\n",
              "      border-color: transparent;\n",
              "      border-bottom-color: var(--fill-color);\n",
              "    }\n",
              "  }\n",
              "</style>\n",
              "\n",
              "  <script>\n",
              "    async function quickchart(key) {\n",
              "      const quickchartButtonEl =\n",
              "        document.querySelector('#' + key + ' button');\n",
              "      quickchartButtonEl.disabled = true;  // To prevent multiple clicks.\n",
              "      quickchartButtonEl.classList.add('colab-df-spinner');\n",
              "      try {\n",
              "        const charts = await google.colab.kernel.invokeFunction(\n",
              "            'suggestCharts', [key], {});\n",
              "      } catch (error) {\n",
              "        console.error('Error during call to suggestCharts:', error);\n",
              "      }\n",
              "      quickchartButtonEl.classList.remove('colab-df-spinner');\n",
              "      quickchartButtonEl.classList.add('colab-df-quickchart-complete');\n",
              "    }\n",
              "    (() => {\n",
              "      let quickchartButtonEl =\n",
              "        document.querySelector('#df-6e0ae2a3-d09b-4b7c-9753-1644f24dddeb button');\n",
              "      quickchartButtonEl.style.display =\n",
              "        google.colab.kernel.accessAllowed ? 'block' : 'none';\n",
              "    })();\n",
              "  </script>\n",
              "</div>\n",
              "    </div>\n",
              "  </div>\n"
            ]
          },
          "metadata": {},
          "execution_count": 93
        }
      ],
      "source": [
        "data[categorical_features].head()"
      ]
    },
    {
      "cell_type": "code",
      "execution_count": 94,
      "metadata": {
        "colab": {
          "base_uri": "https://localhost:8080/"
        },
        "id": "2ec8Megjx7Yy",
        "outputId": "f000b181-f4e0-4572-ed4f-cdb49460c7c9"
      },
      "outputs": [
        {
          "output_type": "stream",
          "name": "stdout",
          "text": [
            "The feature is instance_id and number of labels are 15681\n",
            "The feature is track_name and number of labels are 14799\n",
            "The feature is key and number of labels are 12\n",
            "The feature is voice_gender and number of labels are 4\n",
            "The feature is mode and number of labels are 4\n",
            "The feature is musician_category and number of labels are 4\n",
            "The feature is music_genre and number of labels are 7\n"
          ]
        }
      ],
      "source": [
        "#Checking Cardinality\n",
        "\n",
        "for feature in categorical_features:\n",
        "    print(\"The feature is {} and number of labels are {}\".format(feature,len(data[feature].unique())))"
      ]
    },
    {
      "cell_type": "code",
      "source": [
        "#to plot the count of each category in the categorical variable\n",
        "\n",
        "\n",
        "for features in categorical_features:\n",
        "  features=pd.crosstab(data[features],data['music_genre'])\n",
        "  features.plot(kind=\"bar\", figsize=(4,4))\n",
        "  plt.show()"
      ],
      "metadata": {
        "id": "kTcrTesy64a6"
      },
      "execution_count": null,
      "outputs": []
    },
    {
      "cell_type": "markdown",
      "metadata": {
        "id": "v9U5byia1L0h"
      },
      "source": [
        "*The countplot displays some class imbalance, indicating that the frequency of data points in the various categories is significantly different from one another.*"
      ]
    },
    {
      "cell_type": "markdown",
      "metadata": {
        "id": "0-dB9KBA2TbJ"
      },
      "source": [
        "#**2. Data Preprocessing**"
      ]
    },
    {
      "cell_type": "markdown",
      "metadata": {
        "id": "iQQYPjFp2bvL"
      },
      "source": [
        "Missing Value Handling\n",
        "\n",
        "Outlier Handling\n",
        "\n",
        "Encoding\n",
        "\n",
        "Feature Scaling\n",
        "\n",
        "Dimensionality reduction\n",
        "\n",
        "Feature Selection"
      ]
    },
    {
      "cell_type": "markdown",
      "metadata": {
        "id": "ULzOhFtV2fxv"
      },
      "source": [
        "**1.Missing Value Handling**"
      ]
    },
    {
      "cell_type": "code",
      "execution_count": 108,
      "metadata": {
        "colab": {
          "base_uri": "https://localhost:8080/"
        },
        "id": "EwJYXuyy2TGk",
        "outputId": "b0b398e8-9154-4740-df27-c76bb31a60dc"
      },
      "outputs": [
        {
          "output_type": "execute_result",
          "data": {
            "text/plain": [
              "['popularity',\n",
              " 'danceability',\n",
              " 'duration_ms',\n",
              " 'energy',\n",
              " 'instrumentalness',\n",
              " 'loudness',\n",
              " 'voice_gender',\n",
              " 'mode',\n",
              " 'speechiness',\n",
              " 'tempo',\n",
              " 'musician_category',\n",
              " 'valence']"
            ]
          },
          "metadata": {},
          "execution_count": 108
        }
      ],
      "source": [
        "#features with missing values\n",
        "\n",
        "features_with_na"
      ]
    },
    {
      "cell_type": "code",
      "execution_count": 109,
      "metadata": {
        "id": "uvfyqraYqf5l"
      },
      "outputs": [],
      "source": [
        "# Mean filling\n",
        "\n",
        "for feature  in ['popularity','danceability','tempo']:\n",
        "    data[feature ]=data[feature ].fillna(data[feature ].mean())"
      ]
    },
    {
      "cell_type": "code",
      "source": [
        "data.dtypes"
      ],
      "metadata": {
        "colab": {
          "base_uri": "https://localhost:8080/"
        },
        "id": "7wrzbMfm8BAq",
        "outputId": "95419f4a-d10e-4ba5-cc40-acaf578d9575"
      },
      "execution_count": 117,
      "outputs": [
        {
          "output_type": "execute_result",
          "data": {
            "text/plain": [
              "instance_id           object\n",
              "track_name            object\n",
              "popularity           float64\n",
              "acousticness         float64\n",
              "danceability         float64\n",
              "duration_ms          float64\n",
              "energy               float64\n",
              "instrumentalness     float64\n",
              "key                   object\n",
              "liveness             float64\n",
              "loudness             float64\n",
              "voice_gender          object\n",
              "mode                  object\n",
              "speechiness          float64\n",
              "tempo                float64\n",
              "musician_category     object\n",
              "valence              float64\n",
              "music_genre           object\n",
              "dtype: object"
            ]
          },
          "metadata": {},
          "execution_count": 117
        }
      ]
    },
    {
      "cell_type": "code",
      "source": [
        "# Median filling\n",
        "\n",
        "for feature  in ['duration_ms','energy','instrumentalness','loudness','speechiness','valence']:\n",
        "    data[feature ]=data[feature ].fillna(data[feature ].median())"
      ],
      "metadata": {
        "id": "_DGtUzWj7XA4"
      },
      "execution_count": 118,
      "outputs": []
    },
    {
      "cell_type": "code",
      "source": [
        "# Mode filling\n",
        "\n",
        "for feature  in ['mode','musician_category','voice_gender']:\n",
        "    data[feature ]=data[feature ].fillna(data[feature ].mode().iloc[0])"
      ],
      "metadata": {
        "id": "jU-AlXSe7uVh"
      },
      "execution_count": 130,
      "outputs": []
    },
    {
      "cell_type": "code",
      "source": [
        "data.isnull().sum()"
      ],
      "metadata": {
        "colab": {
          "base_uri": "https://localhost:8080/"
        },
        "id": "6hxHBDbh8rWQ",
        "outputId": "0722e466-769a-4207-81c3-b53eb3c84ce3"
      },
      "execution_count": 131,
      "outputs": [
        {
          "output_type": "execute_result",
          "data": {
            "text/plain": [
              "instance_id          0\n",
              "track_name           0\n",
              "popularity           0\n",
              "acousticness         0\n",
              "danceability         0\n",
              "duration_ms          0\n",
              "energy               0\n",
              "instrumentalness     0\n",
              "key                  0\n",
              "liveness             0\n",
              "loudness             0\n",
              "voice_gender         0\n",
              "mode                 0\n",
              "speechiness          0\n",
              "tempo                0\n",
              "musician_category    0\n",
              "valence              0\n",
              "music_genre          0\n",
              "dtype: int64"
            ]
          },
          "metadata": {},
          "execution_count": 131
        }
      ]
    },
    {
      "cell_type": "markdown",
      "source": [
        "**2.Outlier Handling**"
      ],
      "metadata": {
        "id": "HnrMXq6g9cOC"
      }
    },
    {
      "cell_type": "code",
      "source": [
        "numerical_features\n"
      ],
      "metadata": {
        "colab": {
          "base_uri": "https://localhost:8080/"
        },
        "id": "vrdud7KZ9-YB",
        "outputId": "1f7cec6a-6cfb-4fd7-c48b-6713bab73730"
      },
      "execution_count": 122,
      "outputs": [
        {
          "output_type": "execute_result",
          "data": {
            "text/plain": [
              "['popularity',\n",
              " 'acousticness',\n",
              " 'danceability',\n",
              " 'duration_ms',\n",
              " 'energy',\n",
              " 'instrumentalness',\n",
              " 'liveness',\n",
              " 'loudness',\n",
              " 'speechiness',\n",
              " 'tempo',\n",
              " 'valence']"
            ]
          },
          "metadata": {},
          "execution_count": 122
        }
      ]
    },
    {
      "cell_type": "code",
      "source": [
        "outliers=['popularity',\n",
        " 'acousticness',\n",
        " 'danceability',\n",
        " 'duration_ms',\n",
        " 'energy',\n",
        " 'instrumentalness',\n",
        " 'liveness',\n",
        "  'speechiness',\n",
        " 'tempo',\n",
        " 'valence']\n",
        "# Outlairs are seen  above and below the limit\n",
        "for feature in outliers:\n",
        "  Q1 = data[feature].quantile(0.25)\n",
        "  Q2 = data[feature].quantile(0.50)\n",
        "  Q3 = data[feature].quantile(0.75)\n",
        "  print('\\n',feature,'\\n')\n",
        "  print('Q1=',Q1)\n",
        "  print('Q2=',Q2)\n",
        "  print('Q3=',Q3)\n",
        "  IQR=Q3-Q1\n",
        "  print('IQR=',IQR)\n",
        "  up_lim=Q3+1.5*IQR\n",
        "  print('Upper limit=',up_lim)\n",
        "  data[feature]=np.where(data[feature]>up_lim,up_lim,data[feature])"
      ],
      "metadata": {
        "colab": {
          "base_uri": "https://localhost:8080/"
        },
        "id": "myzXU7Yr83fA",
        "outputId": "01ea5977-fd9d-4323-f0f7-ed8ba9df486b"
      },
      "execution_count": 132,
      "outputs": [
        {
          "output_type": "stream",
          "name": "stdout",
          "text": [
            "\n",
            " popularity \n",
            "\n",
            "Q1= 39.414\n",
            "Q2= 53.135\n",
            "Q3= 63.064\n",
            "IQR= 23.65\n",
            "Upper limit= 98.53899999999999\n",
            "\n",
            " acousticness \n",
            "\n",
            "Q1= 0.044520687\n",
            "Q2= 0.295272304\n",
            "Q3= 0.929000511\n",
            "IQR= 0.884479824\n",
            "Upper limit= 2.255720247\n",
            "\n",
            " danceability \n",
            "\n",
            "Q1= 0.42569352\n",
            "Q2= 0.576149233\n",
            "Q3= 0.726697041\n",
            "IQR= 0.301003521\n",
            "Upper limit= 1.1782023225\n",
            "\n",
            " duration_ms \n",
            "\n",
            "Q1= 186420.834\n",
            "Q2= 236212.737\n",
            "Q3= 296994.754\n",
            "IQR= 110573.92000000001\n",
            "Upper limit= 462855.634\n",
            "\n",
            " energy \n",
            "\n",
            "Q1= 0.159934328\n",
            "Q2= 0.560388862\n",
            "Q3= 0.790423309\n",
            "IQR= 0.6304889810000001\n",
            "Upper limit= 1.7361567805\n",
            "\n",
            " instrumentalness \n",
            "\n",
            "Q1= 0.0\n",
            "Q2= 0.0007190930000000001\n",
            "Q3= 0.632455414\n",
            "IQR= 0.632455414\n",
            "Upper limit= 1.581138535\n",
            "\n",
            " liveness \n",
            "\n",
            "Q1= 0.101674133\n",
            "Q2= 0.128783983\n",
            "Q3= 0.228972916\n",
            "IQR= 0.127298783\n",
            "Upper limit= 0.41992109050000004\n",
            "\n",
            " speechiness \n",
            "\n",
            "Q1= 0.039563077\n",
            "Q2= 0.050425092\n",
            "Q3= 0.094140273\n",
            "IQR= 0.054577195999999994\n",
            "Upper limit= 0.176006067\n",
            "\n",
            " tempo \n",
            "\n",
            "Q1= 92.427\n",
            "Q2= 115.44764061950016\n",
            "Q3= 134.163\n",
            "IQR= 41.736000000000004\n",
            "Upper limit= 196.76700000000002\n",
            "\n",
            " valence \n",
            "\n",
            "Q1= 0.222388718\n",
            "Q2= 0.43247797200000004\n",
            "Q3= 0.652637517\n",
            "IQR= 0.4302487989999999\n",
            "Upper limit= 1.2980107154999998\n"
          ]
        }
      ]
    },
    {
      "cell_type": "markdown",
      "source": [
        "Outliers replaced with lower andupper limits"
      ],
      "metadata": {
        "id": "v2Lx2px8_Y3V"
      }
    },
    {
      "cell_type": "markdown",
      "source": [
        "**3. Encoding**"
      ],
      "metadata": {
        "id": "Z-Sb8WYY_kSc"
      }
    },
    {
      "cell_type": "markdown",
      "source": [
        "Label Encoding"
      ],
      "metadata": {
        "id": "R8DjjjHe_7aT"
      }
    },
    {
      "cell_type": "code",
      "source": [
        "#lots of preprocessing techniques machine learning models and evaluation matruces are present in this sklearn library\n",
        "from sklearn.preprocessing import LabelEncoder #import label encoder from sklearn library. preprocessing is sub class of sklearn library. label encoder is imported from this subclass#"
      ],
      "metadata": {
        "id": "7vUg51H0_U4y"
      },
      "execution_count": 135,
      "outputs": []
    },
    {
      "cell_type": "code",
      "source": [
        "le=LabelEncoder() #taking the instance of label encoder to this particular variable"
      ],
      "metadata": {
        "id": "wcfofPxVACJF"
      },
      "execution_count": 136,
      "outputs": []
    },
    {
      "cell_type": "code",
      "source": [
        "categorical_features"
      ],
      "metadata": {
        "colab": {
          "base_uri": "https://localhost:8080/"
        },
        "id": "lDMwLMrKAa3q",
        "outputId": "19b507ba-c9a4-4652-8e11-01aacecf6297"
      },
      "execution_count": 138,
      "outputs": [
        {
          "output_type": "execute_result",
          "data": {
            "text/plain": [
              "['instance_id',\n",
              " 'track_name',\n",
              " 'key',\n",
              " 'voice_gender',\n",
              " 'mode',\n",
              " 'musician_category',\n",
              " 'music_genre']"
            ]
          },
          "metadata": {},
          "execution_count": 138
        }
      ]
    },
    {
      "cell_type": "code",
      "source": [
        "from sklearn.preprocessing import LabelEncoder\n",
        "\n",
        "le = LabelEncoder()\n",
        "\n",
        "# List of columns to encode\n",
        "columns_to_encode = ['key', 'voice_gender', 'mode', 'musician_category']\n",
        "\n",
        "# Loop through each column and apply label encoding\n",
        "for column in columns_to_encode:\n",
        "    data[column] = le.fit_transform(data[column])"
      ],
      "metadata": {
        "id": "-LAJCcR3Gli0"
      },
      "execution_count": 159,
      "outputs": []
    },
    {
      "cell_type": "markdown",
      "source": [
        "**4. Feature Scaling**"
      ],
      "metadata": {
        "id": "G_IJ7PiOBRzz"
      }
    },
    {
      "cell_type": "markdown",
      "source": [],
      "metadata": {
        "id": "kXAbCuCpBn_8"
      }
    },
    {
      "cell_type": "code",
      "source": [
        "x = data[numerical_features]\n",
        "\n",
        "from sklearn.preprocessing import StandardScaler\n",
        "\n",
        "# Initialize the StandardScaler\n",
        "scaler = StandardScaler()\n",
        "\n",
        "# Apply the StandardScaler to our data and create a DataFrame with scaled values\n",
        "scaled = scaler.fit_transform(x)\n",
        "scaled =pd.DataFrame(scaled,columns=x.columns)\n",
        "\n",
        "# Display summary statistics of the scaled DataFrame\n",
        "scaled.describe()"
      ],
      "metadata": {
        "colab": {
          "base_uri": "https://localhost:8080/",
          "height": 320
        },
        "id": "BWO3qimCB1OT",
        "outputId": "a634c8d6-dd57-4b64-e5c8-58f7431bb6fe"
      },
      "execution_count": 144,
      "outputs": [
        {
          "output_type": "execute_result",
          "data": {
            "text/plain": [
              "         popularity  acousticness  danceability   duration_ms        energy  \\\n",
              "count  1.568100e+04  1.568100e+04  1.568100e+04  1.568100e+04  1.568100e+04   \n",
              "mean   2.111555e-16  3.624987e-18  3.883267e-16  1.681088e-16 -2.174992e-17   \n",
              "std    1.000032e+00  1.000032e+00  1.000032e+00  1.000032e+00  1.000032e+00   \n",
              "min   -2.936243e+00 -1.071836e+00 -2.396618e+00 -2.028549e+00 -2.784880e+00   \n",
              "25%   -6.590486e-01 -9.650668e-01 -6.837999e-01 -4.287995e-01 -5.224262e-01   \n",
              "50%    1.336999e-01 -3.636973e-01  2.861567e-02 -1.518147e-03  2.586608e-01   \n",
              "75%    7.073607e-01  1.156153e+00  7.414674e-01  5.200731e-01  7.073433e-01   \n",
              "max    2.756975e+00  1.552850e+00  2.376917e+00  1.943382e+00  1.301134e+00   \n",
              "\n",
              "       instrumentalness      liveness      loudness   speechiness  \\\n",
              "count      1.568100e+04  1.568100e+04  1.568100e+04  1.568100e+04   \n",
              "mean       4.349984e-17  2.764052e-17 -7.431223e-17  4.440609e-17   \n",
              "std        1.000032e+00  1.000032e+00  1.000032e+00  1.000032e+00   \n",
              "min       -6.648694e-01 -1.458866e+00 -4.441639e+00 -1.008508e+00   \n",
              "25%       -6.648694e-01 -6.866830e-01 -4.464167e-01 -7.003016e-01   \n",
              "50%       -6.630494e-01 -4.404667e-01  3.470584e-01 -4.871412e-01   \n",
              "75%        9.358610e-01  4.694664e-01  6.806484e-01  3.707429e-01   \n",
              "max        2.065045e+00  2.203691e+00  1.502548e+00  1.977310e+00   \n",
              "\n",
              "              tempo       valence  \n",
              "count  1.568100e+04  1.568100e+04  \n",
              "mean  -2.156867e-16  1.662963e-16  \n",
              "std    1.000032e+00  1.000032e+00  \n",
              "min   -2.792573e+00 -1.661520e+00  \n",
              "25%   -7.919269e-01 -8.414647e-01  \n",
              "50%    1.050844e-03 -6.676383e-02  \n",
              "75%    6.457273e-01  7.450711e-01  \n",
              "max    2.802209e+00  2.309794e+00  "
            ],
            "text/html": [
              "\n",
              "  <div id=\"df-57d10821-9625-49c4-b2e9-4d0fc268d2b5\" class=\"colab-df-container\">\n",
              "    <div>\n",
              "<style scoped>\n",
              "    .dataframe tbody tr th:only-of-type {\n",
              "        vertical-align: middle;\n",
              "    }\n",
              "\n",
              "    .dataframe tbody tr th {\n",
              "        vertical-align: top;\n",
              "    }\n",
              "\n",
              "    .dataframe thead th {\n",
              "        text-align: right;\n",
              "    }\n",
              "</style>\n",
              "<table border=\"1\" class=\"dataframe\">\n",
              "  <thead>\n",
              "    <tr style=\"text-align: right;\">\n",
              "      <th></th>\n",
              "      <th>popularity</th>\n",
              "      <th>acousticness</th>\n",
              "      <th>danceability</th>\n",
              "      <th>duration_ms</th>\n",
              "      <th>energy</th>\n",
              "      <th>instrumentalness</th>\n",
              "      <th>liveness</th>\n",
              "      <th>loudness</th>\n",
              "      <th>speechiness</th>\n",
              "      <th>tempo</th>\n",
              "      <th>valence</th>\n",
              "    </tr>\n",
              "  </thead>\n",
              "  <tbody>\n",
              "    <tr>\n",
              "      <th>count</th>\n",
              "      <td>1.568100e+04</td>\n",
              "      <td>1.568100e+04</td>\n",
              "      <td>1.568100e+04</td>\n",
              "      <td>1.568100e+04</td>\n",
              "      <td>1.568100e+04</td>\n",
              "      <td>1.568100e+04</td>\n",
              "      <td>1.568100e+04</td>\n",
              "      <td>1.568100e+04</td>\n",
              "      <td>1.568100e+04</td>\n",
              "      <td>1.568100e+04</td>\n",
              "      <td>1.568100e+04</td>\n",
              "    </tr>\n",
              "    <tr>\n",
              "      <th>mean</th>\n",
              "      <td>2.111555e-16</td>\n",
              "      <td>3.624987e-18</td>\n",
              "      <td>3.883267e-16</td>\n",
              "      <td>1.681088e-16</td>\n",
              "      <td>-2.174992e-17</td>\n",
              "      <td>4.349984e-17</td>\n",
              "      <td>2.764052e-17</td>\n",
              "      <td>-7.431223e-17</td>\n",
              "      <td>4.440609e-17</td>\n",
              "      <td>-2.156867e-16</td>\n",
              "      <td>1.662963e-16</td>\n",
              "    </tr>\n",
              "    <tr>\n",
              "      <th>std</th>\n",
              "      <td>1.000032e+00</td>\n",
              "      <td>1.000032e+00</td>\n",
              "      <td>1.000032e+00</td>\n",
              "      <td>1.000032e+00</td>\n",
              "      <td>1.000032e+00</td>\n",
              "      <td>1.000032e+00</td>\n",
              "      <td>1.000032e+00</td>\n",
              "      <td>1.000032e+00</td>\n",
              "      <td>1.000032e+00</td>\n",
              "      <td>1.000032e+00</td>\n",
              "      <td>1.000032e+00</td>\n",
              "    </tr>\n",
              "    <tr>\n",
              "      <th>min</th>\n",
              "      <td>-2.936243e+00</td>\n",
              "      <td>-1.071836e+00</td>\n",
              "      <td>-2.396618e+00</td>\n",
              "      <td>-2.028549e+00</td>\n",
              "      <td>-2.784880e+00</td>\n",
              "      <td>-6.648694e-01</td>\n",
              "      <td>-1.458866e+00</td>\n",
              "      <td>-4.441639e+00</td>\n",
              "      <td>-1.008508e+00</td>\n",
              "      <td>-2.792573e+00</td>\n",
              "      <td>-1.661520e+00</td>\n",
              "    </tr>\n",
              "    <tr>\n",
              "      <th>25%</th>\n",
              "      <td>-6.590486e-01</td>\n",
              "      <td>-9.650668e-01</td>\n",
              "      <td>-6.837999e-01</td>\n",
              "      <td>-4.287995e-01</td>\n",
              "      <td>-5.224262e-01</td>\n",
              "      <td>-6.648694e-01</td>\n",
              "      <td>-6.866830e-01</td>\n",
              "      <td>-4.464167e-01</td>\n",
              "      <td>-7.003016e-01</td>\n",
              "      <td>-7.919269e-01</td>\n",
              "      <td>-8.414647e-01</td>\n",
              "    </tr>\n",
              "    <tr>\n",
              "      <th>50%</th>\n",
              "      <td>1.336999e-01</td>\n",
              "      <td>-3.636973e-01</td>\n",
              "      <td>2.861567e-02</td>\n",
              "      <td>-1.518147e-03</td>\n",
              "      <td>2.586608e-01</td>\n",
              "      <td>-6.630494e-01</td>\n",
              "      <td>-4.404667e-01</td>\n",
              "      <td>3.470584e-01</td>\n",
              "      <td>-4.871412e-01</td>\n",
              "      <td>1.050844e-03</td>\n",
              "      <td>-6.676383e-02</td>\n",
              "    </tr>\n",
              "    <tr>\n",
              "      <th>75%</th>\n",
              "      <td>7.073607e-01</td>\n",
              "      <td>1.156153e+00</td>\n",
              "      <td>7.414674e-01</td>\n",
              "      <td>5.200731e-01</td>\n",
              "      <td>7.073433e-01</td>\n",
              "      <td>9.358610e-01</td>\n",
              "      <td>4.694664e-01</td>\n",
              "      <td>6.806484e-01</td>\n",
              "      <td>3.707429e-01</td>\n",
              "      <td>6.457273e-01</td>\n",
              "      <td>7.450711e-01</td>\n",
              "    </tr>\n",
              "    <tr>\n",
              "      <th>max</th>\n",
              "      <td>2.756975e+00</td>\n",
              "      <td>1.552850e+00</td>\n",
              "      <td>2.376917e+00</td>\n",
              "      <td>1.943382e+00</td>\n",
              "      <td>1.301134e+00</td>\n",
              "      <td>2.065045e+00</td>\n",
              "      <td>2.203691e+00</td>\n",
              "      <td>1.502548e+00</td>\n",
              "      <td>1.977310e+00</td>\n",
              "      <td>2.802209e+00</td>\n",
              "      <td>2.309794e+00</td>\n",
              "    </tr>\n",
              "  </tbody>\n",
              "</table>\n",
              "</div>\n",
              "    <div class=\"colab-df-buttons\">\n",
              "\n",
              "  <div class=\"colab-df-container\">\n",
              "    <button class=\"colab-df-convert\" onclick=\"convertToInteractive('df-57d10821-9625-49c4-b2e9-4d0fc268d2b5')\"\n",
              "            title=\"Convert this dataframe to an interactive table.\"\n",
              "            style=\"display:none;\">\n",
              "\n",
              "  <svg xmlns=\"http://www.w3.org/2000/svg\" height=\"24px\" viewBox=\"0 -960 960 960\">\n",
              "    <path d=\"M120-120v-720h720v720H120Zm60-500h600v-160H180v160Zm220 220h160v-160H400v160Zm0 220h160v-160H400v160ZM180-400h160v-160H180v160Zm440 0h160v-160H620v160ZM180-180h160v-160H180v160Zm440 0h160v-160H620v160Z\"/>\n",
              "  </svg>\n",
              "    </button>\n",
              "\n",
              "  <style>\n",
              "    .colab-df-container {\n",
              "      display:flex;\n",
              "      gap: 12px;\n",
              "    }\n",
              "\n",
              "    .colab-df-convert {\n",
              "      background-color: #E8F0FE;\n",
              "      border: none;\n",
              "      border-radius: 50%;\n",
              "      cursor: pointer;\n",
              "      display: none;\n",
              "      fill: #1967D2;\n",
              "      height: 32px;\n",
              "      padding: 0 0 0 0;\n",
              "      width: 32px;\n",
              "    }\n",
              "\n",
              "    .colab-df-convert:hover {\n",
              "      background-color: #E2EBFA;\n",
              "      box-shadow: 0px 1px 2px rgba(60, 64, 67, 0.3), 0px 1px 3px 1px rgba(60, 64, 67, 0.15);\n",
              "      fill: #174EA6;\n",
              "    }\n",
              "\n",
              "    .colab-df-buttons div {\n",
              "      margin-bottom: 4px;\n",
              "    }\n",
              "\n",
              "    [theme=dark] .colab-df-convert {\n",
              "      background-color: #3B4455;\n",
              "      fill: #D2E3FC;\n",
              "    }\n",
              "\n",
              "    [theme=dark] .colab-df-convert:hover {\n",
              "      background-color: #434B5C;\n",
              "      box-shadow: 0px 1px 3px 1px rgba(0, 0, 0, 0.15);\n",
              "      filter: drop-shadow(0px 1px 2px rgba(0, 0, 0, 0.3));\n",
              "      fill: #FFFFFF;\n",
              "    }\n",
              "  </style>\n",
              "\n",
              "    <script>\n",
              "      const buttonEl =\n",
              "        document.querySelector('#df-57d10821-9625-49c4-b2e9-4d0fc268d2b5 button.colab-df-convert');\n",
              "      buttonEl.style.display =\n",
              "        google.colab.kernel.accessAllowed ? 'block' : 'none';\n",
              "\n",
              "      async function convertToInteractive(key) {\n",
              "        const element = document.querySelector('#df-57d10821-9625-49c4-b2e9-4d0fc268d2b5');\n",
              "        const dataTable =\n",
              "          await google.colab.kernel.invokeFunction('convertToInteractive',\n",
              "                                                    [key], {});\n",
              "        if (!dataTable) return;\n",
              "\n",
              "        const docLinkHtml = 'Like what you see? Visit the ' +\n",
              "          '<a target=\"_blank\" href=https://colab.research.google.com/notebooks/data_table.ipynb>data table notebook</a>'\n",
              "          + ' to learn more about interactive tables.';\n",
              "        element.innerHTML = '';\n",
              "        dataTable['output_type'] = 'display_data';\n",
              "        await google.colab.output.renderOutput(dataTable, element);\n",
              "        const docLink = document.createElement('div');\n",
              "        docLink.innerHTML = docLinkHtml;\n",
              "        element.appendChild(docLink);\n",
              "      }\n",
              "    </script>\n",
              "  </div>\n",
              "\n",
              "\n",
              "<div id=\"df-f462c412-005a-4d77-9bef-d2df13fe3c12\">\n",
              "  <button class=\"colab-df-quickchart\" onclick=\"quickchart('df-f462c412-005a-4d77-9bef-d2df13fe3c12')\"\n",
              "            title=\"Suggest charts.\"\n",
              "            style=\"display:none;\">\n",
              "\n",
              "<svg xmlns=\"http://www.w3.org/2000/svg\" height=\"24px\"viewBox=\"0 0 24 24\"\n",
              "     width=\"24px\">\n",
              "    <g>\n",
              "        <path d=\"M19 3H5c-1.1 0-2 .9-2 2v14c0 1.1.9 2 2 2h14c1.1 0 2-.9 2-2V5c0-1.1-.9-2-2-2zM9 17H7v-7h2v7zm4 0h-2V7h2v10zm4 0h-2v-4h2v4z\"/>\n",
              "    </g>\n",
              "</svg>\n",
              "  </button>\n",
              "\n",
              "<style>\n",
              "  .colab-df-quickchart {\n",
              "      --bg-color: #E8F0FE;\n",
              "      --fill-color: #1967D2;\n",
              "      --hover-bg-color: #E2EBFA;\n",
              "      --hover-fill-color: #174EA6;\n",
              "      --disabled-fill-color: #AAA;\n",
              "      --disabled-bg-color: #DDD;\n",
              "  }\n",
              "\n",
              "  [theme=dark] .colab-df-quickchart {\n",
              "      --bg-color: #3B4455;\n",
              "      --fill-color: #D2E3FC;\n",
              "      --hover-bg-color: #434B5C;\n",
              "      --hover-fill-color: #FFFFFF;\n",
              "      --disabled-bg-color: #3B4455;\n",
              "      --disabled-fill-color: #666;\n",
              "  }\n",
              "\n",
              "  .colab-df-quickchart {\n",
              "    background-color: var(--bg-color);\n",
              "    border: none;\n",
              "    border-radius: 50%;\n",
              "    cursor: pointer;\n",
              "    display: none;\n",
              "    fill: var(--fill-color);\n",
              "    height: 32px;\n",
              "    padding: 0;\n",
              "    width: 32px;\n",
              "  }\n",
              "\n",
              "  .colab-df-quickchart:hover {\n",
              "    background-color: var(--hover-bg-color);\n",
              "    box-shadow: 0 1px 2px rgba(60, 64, 67, 0.3), 0 1px 3px 1px rgba(60, 64, 67, 0.15);\n",
              "    fill: var(--button-hover-fill-color);\n",
              "  }\n",
              "\n",
              "  .colab-df-quickchart-complete:disabled,\n",
              "  .colab-df-quickchart-complete:disabled:hover {\n",
              "    background-color: var(--disabled-bg-color);\n",
              "    fill: var(--disabled-fill-color);\n",
              "    box-shadow: none;\n",
              "  }\n",
              "\n",
              "  .colab-df-spinner {\n",
              "    border: 2px solid var(--fill-color);\n",
              "    border-color: transparent;\n",
              "    border-bottom-color: var(--fill-color);\n",
              "    animation:\n",
              "      spin 1s steps(1) infinite;\n",
              "  }\n",
              "\n",
              "  @keyframes spin {\n",
              "    0% {\n",
              "      border-color: transparent;\n",
              "      border-bottom-color: var(--fill-color);\n",
              "      border-left-color: var(--fill-color);\n",
              "    }\n",
              "    20% {\n",
              "      border-color: transparent;\n",
              "      border-left-color: var(--fill-color);\n",
              "      border-top-color: var(--fill-color);\n",
              "    }\n",
              "    30% {\n",
              "      border-color: transparent;\n",
              "      border-left-color: var(--fill-color);\n",
              "      border-top-color: var(--fill-color);\n",
              "      border-right-color: var(--fill-color);\n",
              "    }\n",
              "    40% {\n",
              "      border-color: transparent;\n",
              "      border-right-color: var(--fill-color);\n",
              "      border-top-color: var(--fill-color);\n",
              "    }\n",
              "    60% {\n",
              "      border-color: transparent;\n",
              "      border-right-color: var(--fill-color);\n",
              "    }\n",
              "    80% {\n",
              "      border-color: transparent;\n",
              "      border-right-color: var(--fill-color);\n",
              "      border-bottom-color: var(--fill-color);\n",
              "    }\n",
              "    90% {\n",
              "      border-color: transparent;\n",
              "      border-bottom-color: var(--fill-color);\n",
              "    }\n",
              "  }\n",
              "</style>\n",
              "\n",
              "  <script>\n",
              "    async function quickchart(key) {\n",
              "      const quickchartButtonEl =\n",
              "        document.querySelector('#' + key + ' button');\n",
              "      quickchartButtonEl.disabled = true;  // To prevent multiple clicks.\n",
              "      quickchartButtonEl.classList.add('colab-df-spinner');\n",
              "      try {\n",
              "        const charts = await google.colab.kernel.invokeFunction(\n",
              "            'suggestCharts', [key], {});\n",
              "      } catch (error) {\n",
              "        console.error('Error during call to suggestCharts:', error);\n",
              "      }\n",
              "      quickchartButtonEl.classList.remove('colab-df-spinner');\n",
              "      quickchartButtonEl.classList.add('colab-df-quickchart-complete');\n",
              "    }\n",
              "    (() => {\n",
              "      let quickchartButtonEl =\n",
              "        document.querySelector('#df-f462c412-005a-4d77-9bef-d2df13fe3c12 button');\n",
              "      quickchartButtonEl.style.display =\n",
              "        google.colab.kernel.accessAllowed ? 'block' : 'none';\n",
              "    })();\n",
              "  </script>\n",
              "</div>\n",
              "    </div>\n",
              "  </div>\n"
            ]
          },
          "metadata": {},
          "execution_count": 144
        }
      ]
    },
    {
      "cell_type": "markdown",
      "source": [
        "#**Modeling**"
      ],
      "metadata": {
        "id": "PeT7boHNCB13"
      }
    },
    {
      "cell_type": "markdown",
      "source": [
        "**Train Test Split**"
      ],
      "metadata": {
        "id": "i5_R4EMJCjsv"
      }
    },
    {
      "cell_type": "code",
      "source": [
        "# Target variable\n",
        "y = data['music_genre']\n",
        "\n",
        "# Features without target variable\n",
        "X = data.drop(['music_genre','instance_id',\n",
        " 'track_name'],axis=1)"
      ],
      "metadata": {
        "id": "nMHB4h1dCjQ-"
      },
      "execution_count": 160,
      "outputs": []
    },
    {
      "cell_type": "code",
      "source": [
        "#split the data into training and testing set\n",
        "\n",
        "from sklearn.model_selection import train_test_split\n",
        "X_train,X_test,y_train,y_test = train_test_split(X,y,test_size =0.25,random_state = 42)"
      ],
      "metadata": {
        "id": "vk5nZCa9Cpsm"
      },
      "execution_count": 162,
      "outputs": []
    },
    {
      "cell_type": "code",
      "source": [
        "X_train"
      ],
      "metadata": {
        "colab": {
          "base_uri": "https://localhost:8080/",
          "height": 444
        },
        "id": "Tw4fKD-CFSho",
        "outputId": "da580bb3-fd24-41e4-cc08-4ec111a61c64"
      },
      "execution_count": 163,
      "outputs": [
        {
          "output_type": "execute_result",
          "data": {
            "text/plain": [
              "       popularity  acousticness  danceability  duration_ms    energy  \\\n",
              "11134    50.82272      0.153840      0.506715   232621.779  0.920623   \n",
              "13133    39.00200      1.060670      0.366048   124596.196  0.243514   \n",
              "2527     46.04100      0.186672      0.658522   278387.539  0.980841   \n",
              "12689    69.34000      0.005595      0.739165   266823.819  0.852862   \n",
              "2127     55.83900      0.010653      0.627679   356712.204  0.580167   \n",
              "...           ...           ...           ...          ...       ...   \n",
              "5191     35.72200      1.052189      0.243057   462855.634  0.032316   \n",
              "13418    71.17000      0.000464      0.424062   246131.419  0.877795   \n",
              "5390     71.76200      0.033273      0.631742   253625.485  0.791027   \n",
              "860      61.53200      0.002962      0.693862   243028.405  0.908331   \n",
              "7270     32.91500      0.879684      0.627812   462855.634  0.566201   \n",
              "\n",
              "       instrumentalness  key  liveness  loudness  voice_gender  mode  \\\n",
              "11134          0.000000   10  0.140454    -6.068             2     0   \n",
              "13133          0.909284    3  0.153078   -20.430             1     0   \n",
              "2527           0.492062   11  0.419921    -6.680             1     1   \n",
              "12689          0.000003    4  0.419921    -5.143             2     0   \n",
              "2127           0.000003    8  0.143230    -6.523             2     0   \n",
              "...                 ...  ...       ...       ...           ...   ...   \n",
              "5191           0.292201    5  0.143627   -26.782             1     0   \n",
              "13418          0.000221    9  0.070672    -5.585             2     1   \n",
              "5390           0.000022    1  0.184526    -5.301             1     0   \n",
              "860            0.000009    0  0.084210    -6.420             0     0   \n",
              "7270           0.000581   11  0.095274    -9.920             0     0   \n",
              "\n",
              "       speechiness    tempo  musician_category   valence  \n",
              "11134     0.047925  170.047                  2  0.583798  \n",
              "13133     0.037634   83.976                  2  0.047265  \n",
              "2527      0.047540  167.989                  0  0.737214  \n",
              "12689     0.176006   94.138                  0  1.004454  \n",
              "2127      0.039959   60.003                  0  0.555573  \n",
              "...            ...      ...                ...       ...  \n",
              "5191      0.051230  132.250                  0  0.038164  \n",
              "13418     0.085423  146.729                  2  0.371694  \n",
              "5390      0.035498  170.593                  0  0.962491  \n",
              "860       0.033633  124.985                  1  0.784373  \n",
              "7270      0.031771   94.185                  1  0.641208  \n",
              "\n",
              "[11760 rows x 15 columns]"
            ],
            "text/html": [
              "\n",
              "  <div id=\"df-9059a19e-9d6f-4728-9758-eab49c29b5bd\" class=\"colab-df-container\">\n",
              "    <div>\n",
              "<style scoped>\n",
              "    .dataframe tbody tr th:only-of-type {\n",
              "        vertical-align: middle;\n",
              "    }\n",
              "\n",
              "    .dataframe tbody tr th {\n",
              "        vertical-align: top;\n",
              "    }\n",
              "\n",
              "    .dataframe thead th {\n",
              "        text-align: right;\n",
              "    }\n",
              "</style>\n",
              "<table border=\"1\" class=\"dataframe\">\n",
              "  <thead>\n",
              "    <tr style=\"text-align: right;\">\n",
              "      <th></th>\n",
              "      <th>popularity</th>\n",
              "      <th>acousticness</th>\n",
              "      <th>danceability</th>\n",
              "      <th>duration_ms</th>\n",
              "      <th>energy</th>\n",
              "      <th>instrumentalness</th>\n",
              "      <th>key</th>\n",
              "      <th>liveness</th>\n",
              "      <th>loudness</th>\n",
              "      <th>voice_gender</th>\n",
              "      <th>mode</th>\n",
              "      <th>speechiness</th>\n",
              "      <th>tempo</th>\n",
              "      <th>musician_category</th>\n",
              "      <th>valence</th>\n",
              "    </tr>\n",
              "  </thead>\n",
              "  <tbody>\n",
              "    <tr>\n",
              "      <th>11134</th>\n",
              "      <td>50.82272</td>\n",
              "      <td>0.153840</td>\n",
              "      <td>0.506715</td>\n",
              "      <td>232621.779</td>\n",
              "      <td>0.920623</td>\n",
              "      <td>0.000000</td>\n",
              "      <td>10</td>\n",
              "      <td>0.140454</td>\n",
              "      <td>-6.068</td>\n",
              "      <td>2</td>\n",
              "      <td>0</td>\n",
              "      <td>0.047925</td>\n",
              "      <td>170.047</td>\n",
              "      <td>2</td>\n",
              "      <td>0.583798</td>\n",
              "    </tr>\n",
              "    <tr>\n",
              "      <th>13133</th>\n",
              "      <td>39.00200</td>\n",
              "      <td>1.060670</td>\n",
              "      <td>0.366048</td>\n",
              "      <td>124596.196</td>\n",
              "      <td>0.243514</td>\n",
              "      <td>0.909284</td>\n",
              "      <td>3</td>\n",
              "      <td>0.153078</td>\n",
              "      <td>-20.430</td>\n",
              "      <td>1</td>\n",
              "      <td>0</td>\n",
              "      <td>0.037634</td>\n",
              "      <td>83.976</td>\n",
              "      <td>2</td>\n",
              "      <td>0.047265</td>\n",
              "    </tr>\n",
              "    <tr>\n",
              "      <th>2527</th>\n",
              "      <td>46.04100</td>\n",
              "      <td>0.186672</td>\n",
              "      <td>0.658522</td>\n",
              "      <td>278387.539</td>\n",
              "      <td>0.980841</td>\n",
              "      <td>0.492062</td>\n",
              "      <td>11</td>\n",
              "      <td>0.419921</td>\n",
              "      <td>-6.680</td>\n",
              "      <td>1</td>\n",
              "      <td>1</td>\n",
              "      <td>0.047540</td>\n",
              "      <td>167.989</td>\n",
              "      <td>0</td>\n",
              "      <td>0.737214</td>\n",
              "    </tr>\n",
              "    <tr>\n",
              "      <th>12689</th>\n",
              "      <td>69.34000</td>\n",
              "      <td>0.005595</td>\n",
              "      <td>0.739165</td>\n",
              "      <td>266823.819</td>\n",
              "      <td>0.852862</td>\n",
              "      <td>0.000003</td>\n",
              "      <td>4</td>\n",
              "      <td>0.419921</td>\n",
              "      <td>-5.143</td>\n",
              "      <td>2</td>\n",
              "      <td>0</td>\n",
              "      <td>0.176006</td>\n",
              "      <td>94.138</td>\n",
              "      <td>0</td>\n",
              "      <td>1.004454</td>\n",
              "    </tr>\n",
              "    <tr>\n",
              "      <th>2127</th>\n",
              "      <td>55.83900</td>\n",
              "      <td>0.010653</td>\n",
              "      <td>0.627679</td>\n",
              "      <td>356712.204</td>\n",
              "      <td>0.580167</td>\n",
              "      <td>0.000003</td>\n",
              "      <td>8</td>\n",
              "      <td>0.143230</td>\n",
              "      <td>-6.523</td>\n",
              "      <td>2</td>\n",
              "      <td>0</td>\n",
              "      <td>0.039959</td>\n",
              "      <td>60.003</td>\n",
              "      <td>0</td>\n",
              "      <td>0.555573</td>\n",
              "    </tr>\n",
              "    <tr>\n",
              "      <th>...</th>\n",
              "      <td>...</td>\n",
              "      <td>...</td>\n",
              "      <td>...</td>\n",
              "      <td>...</td>\n",
              "      <td>...</td>\n",
              "      <td>...</td>\n",
              "      <td>...</td>\n",
              "      <td>...</td>\n",
              "      <td>...</td>\n",
              "      <td>...</td>\n",
              "      <td>...</td>\n",
              "      <td>...</td>\n",
              "      <td>...</td>\n",
              "      <td>...</td>\n",
              "      <td>...</td>\n",
              "    </tr>\n",
              "    <tr>\n",
              "      <th>5191</th>\n",
              "      <td>35.72200</td>\n",
              "      <td>1.052189</td>\n",
              "      <td>0.243057</td>\n",
              "      <td>462855.634</td>\n",
              "      <td>0.032316</td>\n",
              "      <td>0.292201</td>\n",
              "      <td>5</td>\n",
              "      <td>0.143627</td>\n",
              "      <td>-26.782</td>\n",
              "      <td>1</td>\n",
              "      <td>0</td>\n",
              "      <td>0.051230</td>\n",
              "      <td>132.250</td>\n",
              "      <td>0</td>\n",
              "      <td>0.038164</td>\n",
              "    </tr>\n",
              "    <tr>\n",
              "      <th>13418</th>\n",
              "      <td>71.17000</td>\n",
              "      <td>0.000464</td>\n",
              "      <td>0.424062</td>\n",
              "      <td>246131.419</td>\n",
              "      <td>0.877795</td>\n",
              "      <td>0.000221</td>\n",
              "      <td>9</td>\n",
              "      <td>0.070672</td>\n",
              "      <td>-5.585</td>\n",
              "      <td>2</td>\n",
              "      <td>1</td>\n",
              "      <td>0.085423</td>\n",
              "      <td>146.729</td>\n",
              "      <td>2</td>\n",
              "      <td>0.371694</td>\n",
              "    </tr>\n",
              "    <tr>\n",
              "      <th>5390</th>\n",
              "      <td>71.76200</td>\n",
              "      <td>0.033273</td>\n",
              "      <td>0.631742</td>\n",
              "      <td>253625.485</td>\n",
              "      <td>0.791027</td>\n",
              "      <td>0.000022</td>\n",
              "      <td>1</td>\n",
              "      <td>0.184526</td>\n",
              "      <td>-5.301</td>\n",
              "      <td>1</td>\n",
              "      <td>0</td>\n",
              "      <td>0.035498</td>\n",
              "      <td>170.593</td>\n",
              "      <td>0</td>\n",
              "      <td>0.962491</td>\n",
              "    </tr>\n",
              "    <tr>\n",
              "      <th>860</th>\n",
              "      <td>61.53200</td>\n",
              "      <td>0.002962</td>\n",
              "      <td>0.693862</td>\n",
              "      <td>243028.405</td>\n",
              "      <td>0.908331</td>\n",
              "      <td>0.000009</td>\n",
              "      <td>0</td>\n",
              "      <td>0.084210</td>\n",
              "      <td>-6.420</td>\n",
              "      <td>0</td>\n",
              "      <td>0</td>\n",
              "      <td>0.033633</td>\n",
              "      <td>124.985</td>\n",
              "      <td>1</td>\n",
              "      <td>0.784373</td>\n",
              "    </tr>\n",
              "    <tr>\n",
              "      <th>7270</th>\n",
              "      <td>32.91500</td>\n",
              "      <td>0.879684</td>\n",
              "      <td>0.627812</td>\n",
              "      <td>462855.634</td>\n",
              "      <td>0.566201</td>\n",
              "      <td>0.000581</td>\n",
              "      <td>11</td>\n",
              "      <td>0.095274</td>\n",
              "      <td>-9.920</td>\n",
              "      <td>0</td>\n",
              "      <td>0</td>\n",
              "      <td>0.031771</td>\n",
              "      <td>94.185</td>\n",
              "      <td>1</td>\n",
              "      <td>0.641208</td>\n",
              "    </tr>\n",
              "  </tbody>\n",
              "</table>\n",
              "<p>11760 rows × 15 columns</p>\n",
              "</div>\n",
              "    <div class=\"colab-df-buttons\">\n",
              "\n",
              "  <div class=\"colab-df-container\">\n",
              "    <button class=\"colab-df-convert\" onclick=\"convertToInteractive('df-9059a19e-9d6f-4728-9758-eab49c29b5bd')\"\n",
              "            title=\"Convert this dataframe to an interactive table.\"\n",
              "            style=\"display:none;\">\n",
              "\n",
              "  <svg xmlns=\"http://www.w3.org/2000/svg\" height=\"24px\" viewBox=\"0 -960 960 960\">\n",
              "    <path d=\"M120-120v-720h720v720H120Zm60-500h600v-160H180v160Zm220 220h160v-160H400v160Zm0 220h160v-160H400v160ZM180-400h160v-160H180v160Zm440 0h160v-160H620v160ZM180-180h160v-160H180v160Zm440 0h160v-160H620v160Z\"/>\n",
              "  </svg>\n",
              "    </button>\n",
              "\n",
              "  <style>\n",
              "    .colab-df-container {\n",
              "      display:flex;\n",
              "      gap: 12px;\n",
              "    }\n",
              "\n",
              "    .colab-df-convert {\n",
              "      background-color: #E8F0FE;\n",
              "      border: none;\n",
              "      border-radius: 50%;\n",
              "      cursor: pointer;\n",
              "      display: none;\n",
              "      fill: #1967D2;\n",
              "      height: 32px;\n",
              "      padding: 0 0 0 0;\n",
              "      width: 32px;\n",
              "    }\n",
              "\n",
              "    .colab-df-convert:hover {\n",
              "      background-color: #E2EBFA;\n",
              "      box-shadow: 0px 1px 2px rgba(60, 64, 67, 0.3), 0px 1px 3px 1px rgba(60, 64, 67, 0.15);\n",
              "      fill: #174EA6;\n",
              "    }\n",
              "\n",
              "    .colab-df-buttons div {\n",
              "      margin-bottom: 4px;\n",
              "    }\n",
              "\n",
              "    [theme=dark] .colab-df-convert {\n",
              "      background-color: #3B4455;\n",
              "      fill: #D2E3FC;\n",
              "    }\n",
              "\n",
              "    [theme=dark] .colab-df-convert:hover {\n",
              "      background-color: #434B5C;\n",
              "      box-shadow: 0px 1px 3px 1px rgba(0, 0, 0, 0.15);\n",
              "      filter: drop-shadow(0px 1px 2px rgba(0, 0, 0, 0.3));\n",
              "      fill: #FFFFFF;\n",
              "    }\n",
              "  </style>\n",
              "\n",
              "    <script>\n",
              "      const buttonEl =\n",
              "        document.querySelector('#df-9059a19e-9d6f-4728-9758-eab49c29b5bd button.colab-df-convert');\n",
              "      buttonEl.style.display =\n",
              "        google.colab.kernel.accessAllowed ? 'block' : 'none';\n",
              "\n",
              "      async function convertToInteractive(key) {\n",
              "        const element = document.querySelector('#df-9059a19e-9d6f-4728-9758-eab49c29b5bd');\n",
              "        const dataTable =\n",
              "          await google.colab.kernel.invokeFunction('convertToInteractive',\n",
              "                                                    [key], {});\n",
              "        if (!dataTable) return;\n",
              "\n",
              "        const docLinkHtml = 'Like what you see? Visit the ' +\n",
              "          '<a target=\"_blank\" href=https://colab.research.google.com/notebooks/data_table.ipynb>data table notebook</a>'\n",
              "          + ' to learn more about interactive tables.';\n",
              "        element.innerHTML = '';\n",
              "        dataTable['output_type'] = 'display_data';\n",
              "        await google.colab.output.renderOutput(dataTable, element);\n",
              "        const docLink = document.createElement('div');\n",
              "        docLink.innerHTML = docLinkHtml;\n",
              "        element.appendChild(docLink);\n",
              "      }\n",
              "    </script>\n",
              "  </div>\n",
              "\n",
              "\n",
              "<div id=\"df-f65b4a10-b65e-4277-8bee-5434d82b38d9\">\n",
              "  <button class=\"colab-df-quickchart\" onclick=\"quickchart('df-f65b4a10-b65e-4277-8bee-5434d82b38d9')\"\n",
              "            title=\"Suggest charts.\"\n",
              "            style=\"display:none;\">\n",
              "\n",
              "<svg xmlns=\"http://www.w3.org/2000/svg\" height=\"24px\"viewBox=\"0 0 24 24\"\n",
              "     width=\"24px\">\n",
              "    <g>\n",
              "        <path d=\"M19 3H5c-1.1 0-2 .9-2 2v14c0 1.1.9 2 2 2h14c1.1 0 2-.9 2-2V5c0-1.1-.9-2-2-2zM9 17H7v-7h2v7zm4 0h-2V7h2v10zm4 0h-2v-4h2v4z\"/>\n",
              "    </g>\n",
              "</svg>\n",
              "  </button>\n",
              "\n",
              "<style>\n",
              "  .colab-df-quickchart {\n",
              "      --bg-color: #E8F0FE;\n",
              "      --fill-color: #1967D2;\n",
              "      --hover-bg-color: #E2EBFA;\n",
              "      --hover-fill-color: #174EA6;\n",
              "      --disabled-fill-color: #AAA;\n",
              "      --disabled-bg-color: #DDD;\n",
              "  }\n",
              "\n",
              "  [theme=dark] .colab-df-quickchart {\n",
              "      --bg-color: #3B4455;\n",
              "      --fill-color: #D2E3FC;\n",
              "      --hover-bg-color: #434B5C;\n",
              "      --hover-fill-color: #FFFFFF;\n",
              "      --disabled-bg-color: #3B4455;\n",
              "      --disabled-fill-color: #666;\n",
              "  }\n",
              "\n",
              "  .colab-df-quickchart {\n",
              "    background-color: var(--bg-color);\n",
              "    border: none;\n",
              "    border-radius: 50%;\n",
              "    cursor: pointer;\n",
              "    display: none;\n",
              "    fill: var(--fill-color);\n",
              "    height: 32px;\n",
              "    padding: 0;\n",
              "    width: 32px;\n",
              "  }\n",
              "\n",
              "  .colab-df-quickchart:hover {\n",
              "    background-color: var(--hover-bg-color);\n",
              "    box-shadow: 0 1px 2px rgba(60, 64, 67, 0.3), 0 1px 3px 1px rgba(60, 64, 67, 0.15);\n",
              "    fill: var(--button-hover-fill-color);\n",
              "  }\n",
              "\n",
              "  .colab-df-quickchart-complete:disabled,\n",
              "  .colab-df-quickchart-complete:disabled:hover {\n",
              "    background-color: var(--disabled-bg-color);\n",
              "    fill: var(--disabled-fill-color);\n",
              "    box-shadow: none;\n",
              "  }\n",
              "\n",
              "  .colab-df-spinner {\n",
              "    border: 2px solid var(--fill-color);\n",
              "    border-color: transparent;\n",
              "    border-bottom-color: var(--fill-color);\n",
              "    animation:\n",
              "      spin 1s steps(1) infinite;\n",
              "  }\n",
              "\n",
              "  @keyframes spin {\n",
              "    0% {\n",
              "      border-color: transparent;\n",
              "      border-bottom-color: var(--fill-color);\n",
              "      border-left-color: var(--fill-color);\n",
              "    }\n",
              "    20% {\n",
              "      border-color: transparent;\n",
              "      border-left-color: var(--fill-color);\n",
              "      border-top-color: var(--fill-color);\n",
              "    }\n",
              "    30% {\n",
              "      border-color: transparent;\n",
              "      border-left-color: var(--fill-color);\n",
              "      border-top-color: var(--fill-color);\n",
              "      border-right-color: var(--fill-color);\n",
              "    }\n",
              "    40% {\n",
              "      border-color: transparent;\n",
              "      border-right-color: var(--fill-color);\n",
              "      border-top-color: var(--fill-color);\n",
              "    }\n",
              "    60% {\n",
              "      border-color: transparent;\n",
              "      border-right-color: var(--fill-color);\n",
              "    }\n",
              "    80% {\n",
              "      border-color: transparent;\n",
              "      border-right-color: var(--fill-color);\n",
              "      border-bottom-color: var(--fill-color);\n",
              "    }\n",
              "    90% {\n",
              "      border-color: transparent;\n",
              "      border-bottom-color: var(--fill-color);\n",
              "    }\n",
              "  }\n",
              "</style>\n",
              "\n",
              "  <script>\n",
              "    async function quickchart(key) {\n",
              "      const quickchartButtonEl =\n",
              "        document.querySelector('#' + key + ' button');\n",
              "      quickchartButtonEl.disabled = true;  // To prevent multiple clicks.\n",
              "      quickchartButtonEl.classList.add('colab-df-spinner');\n",
              "      try {\n",
              "        const charts = await google.colab.kernel.invokeFunction(\n",
              "            'suggestCharts', [key], {});\n",
              "      } catch (error) {\n",
              "        console.error('Error during call to suggestCharts:', error);\n",
              "      }\n",
              "      quickchartButtonEl.classList.remove('colab-df-spinner');\n",
              "      quickchartButtonEl.classList.add('colab-df-quickchart-complete');\n",
              "    }\n",
              "    (() => {\n",
              "      let quickchartButtonEl =\n",
              "        document.querySelector('#df-f65b4a10-b65e-4277-8bee-5434d82b38d9 button');\n",
              "      quickchartButtonEl.style.display =\n",
              "        google.colab.kernel.accessAllowed ? 'block' : 'none';\n",
              "    })();\n",
              "  </script>\n",
              "</div>\n",
              "    </div>\n",
              "  </div>\n"
            ]
          },
          "metadata": {},
          "execution_count": 163
        }
      ]
    },
    {
      "cell_type": "markdown",
      "source": [
        "**SVM**"
      ],
      "metadata": {
        "id": "sLjsfoeNCIfG"
      }
    },
    {
      "cell_type": "code",
      "source": [
        "\n",
        "\n",
        "#SVM model\n",
        "\n",
        "from sklearn.svm import SVC\n",
        "svmclf=SVC(kernel='linear')\n",
        "svmclf.fit(X_train,y_train)"
      ],
      "metadata": {
        "id": "LdYwS36dCSMn"
      },
      "execution_count": null,
      "outputs": []
    },
    {
      "cell_type": "code",
      "source": [
        "#predict\n",
        "\n",
        "y_pred=svmclf.predict(X_test)"
      ],
      "metadata": {
        "id": "r5MqCh5dCXZW"
      },
      "execution_count": null,
      "outputs": []
    },
    {
      "cell_type": "code",
      "source": [
        "from sklearn.metrics import accuracy_score\n",
        "\n",
        "print('Accuracy is : ',accuracy_score(y_test,y_pred))"
      ],
      "metadata": {
        "id": "aaG-vK7UCZ12"
      },
      "execution_count": null,
      "outputs": []
    }
  ],
  "metadata": {
    "accelerator": "GPU",
    "colab": {
      "provenance": [],
      "gpuType": "T4"
    },
    "kernelspec": {
      "display_name": "Python 3",
      "name": "python3"
    },
    "language_info": {
      "name": "python"
    }
  },
  "nbformat": 4,
  "nbformat_minor": 0
}